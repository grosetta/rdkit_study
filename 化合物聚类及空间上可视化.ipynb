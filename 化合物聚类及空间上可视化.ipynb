{
  "nbformat": 4,
  "nbformat_minor": 0,
  "metadata": {
    "colab": {
      "provenance": [],
      "collapsed_sections": [
        "d0GyitnKo2Fr",
        "80CjKaauqgGq"
      ],
      "authorship_tag": "ABX9TyOq33acvcdfk9YJCzzF5FbJ",
      "include_colab_link": true
    },
    "kernelspec": {
      "name": "python3",
      "display_name": "Python 3"
    },
    "language_info": {
      "name": "python"
    }
  },
  "cells": [
    {
      "cell_type": "markdown",
      "metadata": {
        "id": "view-in-github",
        "colab_type": "text"
      },
      "source": [
        "<a href=\"https://colab.research.google.com/github/grosetta/rdkit_study/blob/main/%E5%8C%96%E5%90%88%E7%89%A9%E8%81%9A%E7%B1%BB%E5%8F%8A%E7%A9%BA%E9%97%B4%E4%B8%8A%E5%8F%AF%E8%A7%86%E5%8C%96.ipynb\" target=\"_parent\"><img src=\"https://colab.research.google.com/assets/colab-badge.svg\" alt=\"Open In Colab\"/></a>"
      ]
    },
    {
      "cell_type": "code",
      "execution_count": 3,
      "metadata": {
        "colab": {
          "base_uri": "https://localhost:8080/"
        },
        "id": "otfNX0bnlLKy",
        "outputId": "5e2c5136-e8ae-401b-ba2b-680eae521c1d"
      },
      "outputs": [
        {
          "output_type": "stream",
          "name": "stdout",
          "text": [
            "Drive already mounted at /content/gdrive; to attempt to forcibly remount, call drive.mount(\"/content/gdrive\", force_remount=True).\n"
          ]
        }
      ],
      "source": [
        "#文件头代码\n",
        "import sys\n",
        "from google.colab import drive\n",
        "drive.mount('/content/gdrive')\n",
        "sys.path.insert(0,\"/content/gdrive/My Drive/Colab Notebooks/python_package/\")"
      ]
    },
    {
      "cell_type": "markdown",
      "source": [
        "# 计算化合物两两之间的相似性"
      ],
      "metadata": {
        "id": "d0GyitnKo2Fr"
      }
    },
    {
      "cell_type": "code",
      "source": [
        "from rdkit import Chem, DataStructs\n",
        "from rdkit.Chem import MACCSkeys"
      ],
      "metadata": {
        "id": "t0xwp3IXn011"
      },
      "execution_count": 4,
      "outputs": []
    },
    {
      "cell_type": "code",
      "source": [
        "smilesDict = {\n",
        "        \"水杨酸\": \"c1ccc(c(c1)C(=O)O)O\",\n",
        "        \"乙酰水杨酸\": \"O=C(Oc1ccccc1C(=O)O)C\",\n",
        "        \"对乙酰氨基酚\": \"CC(=O)NC1=CC=C(C=C1)O\"}\n",
        " \n",
        "molDict = {name: Chem.MolFromSmiles(smiles) for name, smiles in smilesDict.items()}\n",
        "fpDict = {name: MACCSkeys.GenMACCSKeys(mol) for name, mol in molDict.items()}"
      ],
      "metadata": {
        "id": "YR_B17XRosGF"
      },
      "execution_count": 10,
      "outputs": []
    },
    {
      "cell_type": "code",
      "source": [
        "for nameA, fpA in fpDict.items():\n",
        "    for nameB, fpB in fpDict.items():\n",
        "        tanimoto = DataStructs.FingerprintSimilarity(fpA, fpB)\n",
        "        print(\"%s - %s: %0.2f\" % (nameA, nameB, tanimoto))"
      ],
      "metadata": {
        "colab": {
          "base_uri": "https://localhost:8080/"
        },
        "id": "Rkg3CJtxovcs",
        "outputId": "52d4dede-2786-41e6-edfc-5ed6b111e405"
      },
      "execution_count": 11,
      "outputs": [
        {
          "output_type": "stream",
          "name": "stdout",
          "text": [
            "水杨酸 - 水杨酸: 1.00\n",
            "水杨酸 - 乙酰水杨酸: 0.74\n",
            "水杨酸 - 对乙酰氨基酚: 0.45\n",
            "乙酰水杨酸 - 水杨酸: 0.74\n",
            "乙酰水杨酸 - 乙酰水杨酸: 1.00\n",
            "乙酰水杨酸 - 对乙酰氨基酚: 0.42\n",
            "对乙酰氨基酚 - 水杨酸: 0.45\n",
            "对乙酰氨基酚 - 乙酰水杨酸: 0.42\n",
            "对乙酰氨基酚 - 对乙酰氨基酚: 1.00\n"
          ]
        }
      ]
    },
    {
      "cell_type": "markdown",
      "source": [
        "# PCA可视化化学空间"
      ],
      "metadata": {
        "id": "80CjKaauqgGq"
      }
    },
    {
      "cell_type": "code",
      "source": [
        "import numpy as np\n",
        "import pandas as pd\n",
        "from matplotlib import pyplot as plt\n",
        "from rdkit import Chem\n",
        "from rdkit.Chem import MACCSkeys\n",
        "%matplotlib inline"
      ],
      "metadata": {
        "id": "4exKAkf4qneC"
      },
      "execution_count": 19,
      "outputs": []
    },
    {
      "cell_type": "code",
      "source": [
        "spl = Chem.SDMolSupplier('/content/gdrive/MyDrive/data/molecules.sdf')\n",
        "mols = [mol for mol in spl if mol is not None]\n",
        "print('共有分子数：',len(mols))"
      ],
      "metadata": {
        "colab": {
          "base_uri": "https://localhost:8080/"
        },
        "id": "PPIrUZwbqzMS",
        "outputId": "5af25423-aefa-4e06-bdce-cd2a1b15af48"
      },
      "execution_count": 15,
      "outputs": [
        {
          "output_type": "stream",
          "name": "stdout",
          "text": [
            "共有分子数： 200\n"
          ]
        }
      ]
    },
    {
      "cell_type": "code",
      "source": [
        "def fp2arr(fp):\n",
        "  #分子指纹转数组\n",
        "    from rdkit import DataStructs\n",
        "    arr = np.zeros((1,))\n",
        "    DataStructs.ConvertToNumpyArray(fp, arr)\n",
        "    return arr"
      ],
      "metadata": {
        "id": "SpQ13R3PrT5a"
      },
      "execution_count": 16,
      "outputs": []
    },
    {
      "cell_type": "code",
      "source": [
        "fps = [MACCSkeys.GenMACCSKeys(mol) for mol in mols]\n",
        "fpMtx = np.array([fp2arr(fp) for fp in fps])"
      ],
      "metadata": {
        "id": "LglsV2ZkrdKB"
      },
      "execution_count": 17,
      "outputs": []
    },
    {
      "cell_type": "code",
      "source": [
        "from sklearn.decomposition import PCA\n",
        "pca = PCA(n_components=2)\n",
        "res = pca.fit_transform(fpMtx)\n",
        "# extract each component\n",
        "pc = res.T\n",
        " \n",
        "cum_cr = sum(pca.explained_variance_ratio_)\n",
        "print(\"cumulative contribution ratio=%.2f\" % cum_cr)\n",
        " \n",
        "plt.figure()\n",
        "plt.scatter(pc[0], pc[1], marker=\".\")\n",
        "plt.xlabel(\"PC1\")\n",
        "plt.ylabel(\"PC2\")\n",
        "plt.legend()\n",
        "plt.savefig(\"pca_plot.png\")\n",
        "plt.show   "
      ],
      "metadata": {
        "colab": {
          "base_uri": "https://localhost:8080/",
          "height": 331
        },
        "id": "WWVZ0lCxrxUR",
        "outputId": "890fde7d-5326-453a-9aeb-d2671a6b63ff"
      },
      "execution_count": 21,
      "outputs": [
        {
          "output_type": "stream",
          "name": "stderr",
          "text": [
            "WARNING:matplotlib.legend:No handles with labels found to put in legend.\n"
          ]
        },
        {
          "output_type": "stream",
          "name": "stdout",
          "text": [
            "cumulative contribution ratio=0.21\n"
          ]
        },
        {
          "output_type": "execute_result",
          "data": {
            "text/plain": [
              "<function matplotlib.pyplot.show(*args, **kw)>"
            ]
          },
          "metadata": {},
          "execution_count": 21
        },
        {
          "output_type": "display_data",
          "data": {
            "text/plain": [
              "<Figure size 432x288 with 1 Axes>"
            ],
            "image/png": "[encoded data removed]"
          },
          "metadata": {
            "needs_background": "light"
          }
        }
      ]
    }
  ]
}