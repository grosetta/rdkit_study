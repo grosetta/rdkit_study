{
  "nbformat": 4,
  "nbformat_minor": 0,
  "metadata": {
    "colab": {
      "provenance": [],
      "authorship_tag": "ABX9TyPcKYQR31Codz517wreBm6Z",
      "include_colab_link": true
    },
    "kernelspec": {
      "name": "python3",
      "display_name": "Python 3"
    },
    "language_info": {
      "name": "python"
    }
  },
  "cells": [
    {
      "cell_type": "markdown",
      "metadata": {
        "id": "view-in-github",
        "colab_type": "text"
      },
      "source": [
        "<a href=\"https://colab.research.google.com/github/grosetta/rdkit_study/blob/main/%E5%85%A8%E5%8D%B7%E7%A7%AF%E7%A5%9E%E7%BB%8F%E7%BD%91%E7%BB%9C%EF%BC%88%E5%88%86%E7%B1%BB%E5%9E%8B%EF%BC%89.ipynb\" target=\"_parent\"><img src=\"https://colab.research.google.com/assets/colab-badge.svg\" alt=\"Open In Colab\"/></a>"
      ]
    },
    {
      "cell_type": "code",
      "execution_count": 1,
      "metadata": {
        "colab": {
          "base_uri": "https://localhost:8080/"
        },
        "id": "dVq6bFlzNdQX",
        "outputId": "778f0f64-5448-44d3-c10b-c12956760545"
      },
      "outputs": [
        {
          "output_type": "stream",
          "name": "stdout",
          "text": [
            "Mounted at /content/gdrive\n"
          ]
        }
      ],
      "source": [
        "#文件头代码\n",
        "import sys\n",
        "from google.colab import drive\n",
        "drive.mount('/content/gdrive')\n",
        "sys.path.insert(0,\"/content/gdrive/My Drive/Colab Notebooks/python_package/\")"
      ]
    },
    {
      "cell_type": "code",
      "source": [
        "import os\n",
        "os.chdir(\"/content/gdrive/MyDrive/data/\")"
      ],
      "metadata": {
        "id": "ihDM-_nPOUm4"
      },
      "execution_count": 3,
      "outputs": []
    },
    {
      "cell_type": "code",
      "source": [
        "from __future__ import print_function\n",
        "from __future__ import division\n",
        "from __future__ import unicode_literals\n",
        "\n",
        "import numpy as np\n",
        "import pandas as pd\n",
        "import matplotlib.pyplot as plt\n",
        "\n",
        "import deepchem as dc\n",
        "from rdkit import Chem\n",
        "from rdkit.Chem import Draw\n",
        "from rdkit.Chem import AllChem\n",
        "from rdkit.Chem import MACCSkeys\n",
        "from rdkit.Chem import DataStructs\n",
        "from rdkit.Chem.Draw import IPythonConsole "
      ],
      "metadata": {
        "id": "QdqLOTxWOvmQ"
      },
      "execution_count": 36,
      "outputs": []
    },
    {
      "cell_type": "code",
      "source": [
        "# 调试用\n",
        "np.random.seed(123)"
      ],
      "metadata": {
        "id": "5akRo7vNOzL4"
      },
      "execution_count": 5,
      "outputs": []
    },
    {
      "cell_type": "code",
      "source": [
        "features = pd.read_excel(\"./features.xlsx\")  \n",
        "train_features = features.sample(frac=0.8, replace=False, random_state=0)\n",
        "valid_features=features[~features.index.isin(train_features.index)]\n",
        "\n",
        "target = pd.read_excel(\"./target.xlsx\")\n",
        "train_target = target.sample(frac=0.8, replace=False, random_state=0)\n",
        "valid_target=target[~target.index.isin(train_target.index)]\n",
        "\n",
        "weight = pd.read_excel(\"./weight.xlsx\")\n",
        "train_weight = weight.sample(frac=0.8, replace=False, random_state=0)\n",
        "valid_weight=weight[~weight.index.isin(train_weight.index)]"
      ],
      "metadata": {
        "id": "66Skg8t7Phk4"
      },
      "execution_count": 10,
      "outputs": []
    },
    {
      "cell_type": "code",
      "source": [
        "tox21_tasks = ['SR-p53']\n",
        "n_features = 1024"
      ],
      "metadata": {
        "id": "FCfRHJPSSR6A"
      },
      "execution_count": 11,
      "outputs": []
    },
    {
      "cell_type": "code",
      "source": [
        "import tempfile\n",
        "with tempfile.TemporaryDirectory() as data_dir:\n",
        "    train_dataset = dc.data.DiskDataset.from_numpy(X=np.array(train_features, dtype='float32'), y=np.array(train_target, dtype='float32'), \n",
        "    w=np.array(train_weight, dtype='float32'), tasks = tox21_tasks, data_dir='./dev')\n",
        "    print(train_dataset)\n",
        "\n",
        "import tempfile\n",
        "with tempfile.TemporaryDirectory() as data_dir:\n",
        "    valid_dataset = dc.data.DiskDataset.from_numpy(X=np.array(valid_features, dtype='float32'), y=np.array(valid_target, dtype='float32'),\n",
        "    w=np.array(valid_weight, dtype='float32'), tasks = tox21_tasks, data_dir='./val')\n",
        "    print(valid_dataset)"
      ],
      "metadata": {
        "colab": {
          "base_uri": "https://localhost:8080/"
        },
        "id": "63svFakJSZg_",
        "outputId": "69cc9759-5219-4919-e09b-1f7f515e26c2"
      },
      "execution_count": 18,
      "outputs": [
        {
          "output_type": "stream",
          "name": "stdout",
          "text": [
            "<DiskDataset X.shape: (5011, 1024), y.shape: (5011, 1), w.shape: (5011, 1), task_names: ['SR-p53']>\n",
            "<DiskDataset X.shape: (1253, 1024), y.shape: (1253, 1), w.shape: (1253, 1), task_names: ['SR-p53']>\n"
          ]
        }
      ]
    },
    {
      "cell_type": "code",
      "source": [
        "# 搭建模型\n",
        "metric = dc.metrics.Metric(dc.metrics.roc_auc_score, np.mean)\n",
        "model = dc.models.MultitaskClassifier(\n",
        "    len(tox21_tasks),\n",
        "    n_features,\n",
        "    layer_sizes=[1000],\n",
        "    dropouts=[.25],\n",
        "    learning_rate=0.001,\n",
        "    batch_size=50,\n",
        "    use_queue=False)"
      ],
      "metadata": {
        "id": "wIC8r7rTSgpP"
      },
      "execution_count": 19,
      "outputs": []
    },
    {
      "cell_type": "code",
      "source": [
        "# 训练模型\n",
        "model.fit(train_dataset, nb_epoch=1)"
      ],
      "metadata": {
        "colab": {
          "base_uri": "https://localhost:8080/"
        },
        "id": "A1qXffmuSh_g",
        "outputId": "ececd7c2-e51e-4120-aa13-0926c7921a0c"
      },
      "execution_count": 20,
      "outputs": [
        {
          "output_type": "execute_result",
          "data": {
            "text/plain": [
              "0.3065994381904602"
            ]
          },
          "metadata": {},
          "execution_count": 20
        }
      ]
    },
    {
      "cell_type": "code",
      "source": [
        "print(\"Evaluating model\")\n",
        "train_scores = model.evaluate(train_dataset, [metric])\n",
        "valid_scores = model.evaluate(valid_dataset, [metric])\n",
        "\n",
        "print(\"Train scores\")\n",
        "print(train_scores)\n",
        "\n",
        "print(\"Validation scores\")\n",
        "print(valid_scores)"
      ],
      "metadata": {
        "colab": {
          "base_uri": "https://localhost:8080/"
        },
        "id": "BU0ky_tOWqjh",
        "outputId": "76bc99ea-f027-46f4-b519-40634a17863d"
      },
      "execution_count": 22,
      "outputs": [
        {
          "output_type": "stream",
          "name": "stdout",
          "text": [
            "Evaluating model\n",
            "Train scores\n",
            "{'mean-roc_auc_score': 0.8761886992859833}\n",
            "Validation scores\n",
            "{'mean-roc_auc_score': 0.6846228385895146}\n"
          ]
        }
      ]
    },
    {
      "cell_type": "code",
      "source": [
        "# 预知未知分子毒性\n",
        "list_smiles = []\n",
        "list_mols = Chem.SDMolSupplier('/content/gdrive/MyDrive/data/molecules.sdf')\n",
        "\n",
        "for mol in list_mols:\n",
        "    smi = Chem.MolToSmiles(mol)\n",
        "    list_smiles.append(smi)\n",
        "\n",
        "\n",
        "#ecfp指纹转化为图\n",
        "smi = \"CC(=O)Nc1ccc(O)cc1\"\n",
        "mol = Chem.MolFromSmiles(smi)\n",
        "ECFP = AllChem.GetMorganFingerprintAsBitVect(mol, 2, nBits=1024)\n",
        "binary = ECFP.ToBitString()\n",
        "list1 = list(binary)\n",
        "list2 = [int(i) for i in list1]\n",
        "arr1 = np.array(list2).reshape(32,32)\n",
        "fig = plt.subplots(figsize=(20, 10))\n",
        "plt.imshow(arr1)\n",
        "plt.colorbar()\n",
        "plt.grid()"
      ],
      "metadata": {
        "colab": {
          "base_uri": "https://localhost:8080/",
          "height": 596
        },
        "id": "TMjVXLg-WzZI",
        "outputId": "ecf6cacb-41e5-40c6-c4ff-4ec3ae5fa110"
      },
      "execution_count": 28,
      "outputs": [
        {
          "output_type": "display_data",
          "data": {
            "text/plain": [
              "<Figure size 1440x720 with 2 Axes>"
            ],
            "image/png": "[encoded data removed]"
          },
          "metadata": {
            "needs_background": "light"
          }
        }
      ]
    },
    {
      "cell_type": "code",
      "source": [
        "# smiles转换为mol分子\n",
        "mols = [Chem.MolFromSmiles(i) for i in list_smiles]\n",
        "mols = [Chem.AddHs(i) for i in mols]\n",
        "test_features = pd.DataFrame()\n",
        "for mol in mols:\n",
        "    #fp = MACCSkeys.GenMACCSKeys(mol)\n",
        "    ECFP = AllChem.GetMorganFingerprintAsBitVect(mol, 2, nBits=1024)\n",
        "    binary = ECFP.ToBitString()\n",
        "    list1 = list(binary)\n",
        "    df = pd.DataFrame(list1)\n",
        "    test_features = pd.concat([test_features, df.T], axis=0)"
      ],
      "metadata": {
        "id": "f9Ejy4EGXp1P"
      },
      "execution_count": 30,
      "outputs": []
    },
    {
      "cell_type": "code",
      "source": [
        "try:\n",
        "    os.mkdir('./test')\n",
        "except FileExistsError:\n",
        "    pass"
      ],
      "metadata": {
        "id": "3ctZVBbCZK5g"
      },
      "execution_count": 31,
      "outputs": []
    },
    {
      "cell_type": "code",
      "source": [
        "import tempfile\n",
        "with tempfile.TemporaryDirectory() as data_dir:\n",
        "    test_dataset = dc.data.DiskDataset.from_numpy(X=np.array(test_features, dtype='float32'), tasks = tox21_tasks, data_dir='./test')\n",
        "    print(test_dataset.X)"
      ],
      "metadata": {
        "colab": {
          "base_uri": "https://localhost:8080/"
        },
        "id": "c82h_KV2ZQd_",
        "outputId": "8b6631bb-d5fe-4567-fdc3-9a822edae149"
      },
      "execution_count": 34,
      "outputs": [
        {
          "output_type": "stream",
          "name": "stdout",
          "text": [
            "[[0. 0. 0. ... 0. 0. 0.]\n",
            " [0. 1. 0. ... 0. 0. 0.]\n",
            " [0. 0. 0. ... 0. 0. 0.]\n",
            " ...\n",
            " [0. 0. 0. ... 0. 0. 0.]\n",
            " [0. 0. 0. ... 0. 0. 0.]\n",
            " [0. 0. 0. ... 0. 0. 0.]]\n"
          ]
        }
      ]
    },
    {
      "cell_type": "code",
      "source": [
        "# 概率预测模型\n",
        "dict_label = {0:'无毒性', 1:'有毒性'}\n",
        "predictions_probability = model.predict(test_dataset)\n",
        "\n",
        "for i, smi in enumerate(list_smiles):\n",
        "    mol = Chem.MolFromSmiles(smi)\n",
        "    Draw.MolToImage(mol, size=(600, 600))\n",
        "    pred_label = dict_label[np.argmax(predictions_probability[i])]\n",
        "    if pred_label=='无毒性':\n",
        "        print('分子{}:\\t'.format(i) + '这是一个AI预测' + pred_label + '的药物分子, 请放心做决策！')\n",
        "    elif pred_label=='有毒性':\n",
        "        print('分子{}:\\t'.format(i) + '这是一个AI预测' + pred_label + '的药物分子, 请谨慎做决策！')\n",
        "        Draw.MolToImage(mol, size=(600, 600))"
      ],
      "metadata": {
        "colab": {
          "base_uri": "https://localhost:8080/"
        },
        "id": "dzxhRYBvZTE4",
        "outputId": "aba01923-3539-47bc-d740-fd89331d7177"
      },
      "execution_count": 41,
      "outputs": [
        {
          "output_type": "stream",
          "name": "stdout",
          "text": [
            "分子0:\t这是一个AI预测无毒性的药物分子, 请放心做决策！\n",
            "分子1:\t这是一个AI预测无毒性的药物分子, 请放心做决策！\n",
            "分子2:\t这是一个AI预测无毒性的药物分子, 请放心做决策！\n",
            "分子3:\t这是一个AI预测无毒性的药物分子, 请放心做决策！\n",
            "分子4:\t这是一个AI预测无毒性的药物分子, 请放心做决策！\n",
            "分子5:\t这是一个AI预测无毒性的药物分子, 请放心做决策！\n",
            "分子6:\t这是一个AI预测无毒性的药物分子, 请放心做决策！\n",
            "分子7:\t这是一个AI预测无毒性的药物分子, 请放心做决策！\n",
            "分子8:\t这是一个AI预测无毒性的药物分子, 请放心做决策！\n",
            "分子9:\t这是一个AI预测无毒性的药物分子, 请放心做决策！\n",
            "分子10:\t这是一个AI预测无毒性的药物分子, 请放心做决策！\n",
            "分子11:\t这是一个AI预测无毒性的药物分子, 请放心做决策！\n",
            "分子12:\t这是一个AI预测无毒性的药物分子, 请放心做决策！\n",
            "分子13:\t这是一个AI预测无毒性的药物分子, 请放心做决策！\n",
            "分子14:\t这是一个AI预测无毒性的药物分子, 请放心做决策！\n",
            "分子15:\t这是一个AI预测有毒性的药物分子, 请谨慎做决策！\n",
            "分子16:\t这是一个AI预测无毒性的药物分子, 请放心做决策！\n",
            "分子17:\t这是一个AI预测无毒性的药物分子, 请放心做决策！\n",
            "分子18:\t这是一个AI预测无毒性的药物分子, 请放心做决策！\n",
            "分子19:\t这是一个AI预测无毒性的药物分子, 请放心做决策！\n",
            "分子20:\t这是一个AI预测无毒性的药物分子, 请放心做决策！\n",
            "分子21:\t这是一个AI预测无毒性的药物分子, 请放心做决策！\n",
            "分子22:\t这是一个AI预测无毒性的药物分子, 请放心做决策！\n",
            "分子23:\t这是一个AI预测无毒性的药物分子, 请放心做决策！\n",
            "分子24:\t这是一个AI预测无毒性的药物分子, 请放心做决策！\n",
            "分子25:\t这是一个AI预测无毒性的药物分子, 请放心做决策！\n",
            "分子26:\t这是一个AI预测无毒性的药物分子, 请放心做决策！\n",
            "分子27:\t这是一个AI预测无毒性的药物分子, 请放心做决策！\n",
            "分子28:\t这是一个AI预测无毒性的药物分子, 请放心做决策！\n",
            "分子29:\t这是一个AI预测无毒性的药物分子, 请放心做决策！\n",
            "分子30:\t这是一个AI预测无毒性的药物分子, 请放心做决策！\n",
            "分子31:\t这是一个AI预测无毒性的药物分子, 请放心做决策！\n",
            "分子32:\t这是一个AI预测无毒性的药物分子, 请放心做决策！\n",
            "分子33:\t这是一个AI预测无毒性的药物分子, 请放心做决策！\n",
            "分子34:\t这是一个AI预测有毒性的药物分子, 请谨慎做决策！\n",
            "分子35:\t这是一个AI预测无毒性的药物分子, 请放心做决策！\n",
            "分子36:\t这是一个AI预测无毒性的药物分子, 请放心做决策！\n",
            "分子37:\t这是一个AI预测无毒性的药物分子, 请放心做决策！\n",
            "分子38:\t这是一个AI预测无毒性的药物分子, 请放心做决策！\n",
            "分子39:\t这是一个AI预测无毒性的药物分子, 请放心做决策！\n",
            "分子40:\t这是一个AI预测无毒性的药物分子, 请放心做决策！\n",
            "分子41:\t这是一个AI预测无毒性的药物分子, 请放心做决策！\n",
            "分子42:\t这是一个AI预测无毒性的药物分子, 请放心做决策！\n",
            "分子43:\t这是一个AI预测无毒性的药物分子, 请放心做决策！\n",
            "分子44:\t这是一个AI预测无毒性的药物分子, 请放心做决策！\n",
            "分子45:\t这是一个AI预测有毒性的药物分子, 请谨慎做决策！\n",
            "分子46:\t这是一个AI预测无毒性的药物分子, 请放心做决策！\n",
            "分子47:\t这是一个AI预测无毒性的药物分子, 请放心做决策！\n",
            "分子48:\t这是一个AI预测无毒性的药物分子, 请放心做决策！\n",
            "分子49:\t这是一个AI预测无毒性的药物分子, 请放心做决策！\n",
            "分子50:\t这是一个AI预测无毒性的药物分子, 请放心做决策！\n",
            "分子51:\t这是一个AI预测无毒性的药物分子, 请放心做决策！\n",
            "分子52:\t这是一个AI预测无毒性的药物分子, 请放心做决策！\n",
            "分子53:\t这是一个AI预测无毒性的药物分子, 请放心做决策！\n",
            "分子54:\t这是一个AI预测无毒性的药物分子, 请放心做决策！\n",
            "分子55:\t这是一个AI预测无毒性的药物分子, 请放心做决策！\n",
            "分子56:\t这是一个AI预测无毒性的药物分子, 请放心做决策！\n",
            "分子57:\t这是一个AI预测无毒性的药物分子, 请放心做决策！\n",
            "分子58:\t这是一个AI预测无毒性的药物分子, 请放心做决策！\n",
            "分子59:\t这是一个AI预测无毒性的药物分子, 请放心做决策！\n",
            "分子60:\t这是一个AI预测无毒性的药物分子, 请放心做决策！\n",
            "分子61:\t这是一个AI预测无毒性的药物分子, 请放心做决策！\n",
            "分子62:\t这是一个AI预测无毒性的药物分子, 请放心做决策！\n",
            "分子63:\t这是一个AI预测无毒性的药物分子, 请放心做决策！\n",
            "分子64:\t这是一个AI预测无毒性的药物分子, 请放心做决策！\n",
            "分子65:\t这是一个AI预测无毒性的药物分子, 请放心做决策！\n",
            "分子66:\t这是一个AI预测无毒性的药物分子, 请放心做决策！\n",
            "分子67:\t这是一个AI预测无毒性的药物分子, 请放心做决策！\n",
            "分子68:\t这是一个AI预测无毒性的药物分子, 请放心做决策！\n",
            "分子69:\t这是一个AI预测无毒性的药物分子, 请放心做决策！\n",
            "分子70:\t这是一个AI预测无毒性的药物分子, 请放心做决策！\n",
            "分子71:\t这是一个AI预测无毒性的药物分子, 请放心做决策！\n",
            "分子72:\t这是一个AI预测无毒性的药物分子, 请放心做决策！\n",
            "分子73:\t这是一个AI预测无毒性的药物分子, 请放心做决策！\n",
            "分子74:\t这是一个AI预测无毒性的药物分子, 请放心做决策！\n",
            "分子75:\t这是一个AI预测无毒性的药物分子, 请放心做决策！\n",
            "分子76:\t这是一个AI预测无毒性的药物分子, 请放心做决策！\n",
            "分子77:\t这是一个AI预测无毒性的药物分子, 请放心做决策！\n",
            "分子78:\t这是一个AI预测无毒性的药物分子, 请放心做决策！\n",
            "分子79:\t这是一个AI预测无毒性的药物分子, 请放心做决策！\n",
            "分子80:\t这是一个AI预测无毒性的药物分子, 请放心做决策！\n",
            "分子81:\t这是一个AI预测无毒性的药物分子, 请放心做决策！\n",
            "分子82:\t这是一个AI预测无毒性的药物分子, 请放心做决策！\n",
            "分子83:\t这是一个AI预测无毒性的药物分子, 请放心做决策！\n",
            "分子84:\t这是一个AI预测无毒性的药物分子, 请放心做决策！\n",
            "分子85:\t这是一个AI预测无毒性的药物分子, 请放心做决策！\n",
            "分子86:\t这是一个AI预测无毒性的药物分子, 请放心做决策！\n",
            "分子87:\t这是一个AI预测有毒性的药物分子, 请谨慎做决策！\n",
            "分子88:\t这是一个AI预测无毒性的药物分子, 请放心做决策！\n",
            "分子89:\t这是一个AI预测无毒性的药物分子, 请放心做决策！\n",
            "分子90:\t这是一个AI预测无毒性的药物分子, 请放心做决策！\n",
            "分子91:\t这是一个AI预测有毒性的药物分子, 请谨慎做决策！\n",
            "分子92:\t这是一个AI预测有毒性的药物分子, 请谨慎做决策！\n",
            "分子93:\t这是一个AI预测无毒性的药物分子, 请放心做决策！\n",
            "分子94:\t这是一个AI预测无毒性的药物分子, 请放心做决策！\n",
            "分子95:\t这是一个AI预测无毒性的药物分子, 请放心做决策！\n",
            "分子96:\t这是一个AI预测无毒性的药物分子, 请放心做决策！\n",
            "分子97:\t这是一个AI预测无毒性的药物分子, 请放心做决策！\n",
            "分子98:\t这是一个AI预测无毒性的药物分子, 请放心做决策！\n",
            "分子99:\t这是一个AI预测有毒性的药物分子, 请谨慎做决策！\n",
            "分子100:\t这是一个AI预测无毒性的药物分子, 请放心做决策！\n",
            "分子101:\t这是一个AI预测无毒性的药物分子, 请放心做决策！\n",
            "分子102:\t这是一个AI预测无毒性的药物分子, 请放心做决策！\n",
            "分子103:\t这是一个AI预测无毒性的药物分子, 请放心做决策！\n",
            "分子104:\t这是一个AI预测无毒性的药物分子, 请放心做决策！\n",
            "分子105:\t这是一个AI预测无毒性的药物分子, 请放心做决策！\n",
            "分子106:\t这是一个AI预测无毒性的药物分子, 请放心做决策！\n",
            "分子107:\t这是一个AI预测无毒性的药物分子, 请放心做决策！\n",
            "分子108:\t这是一个AI预测无毒性的药物分子, 请放心做决策！\n",
            "分子109:\t这是一个AI预测无毒性的药物分子, 请放心做决策！\n",
            "分子110:\t这是一个AI预测无毒性的药物分子, 请放心做决策！\n",
            "分子111:\t这是一个AI预测有毒性的药物分子, 请谨慎做决策！\n",
            "分子112:\t这是一个AI预测无毒性的药物分子, 请放心做决策！\n",
            "分子113:\t这是一个AI预测无毒性的药物分子, 请放心做决策！\n",
            "分子114:\t这是一个AI预测无毒性的药物分子, 请放心做决策！\n",
            "分子115:\t这是一个AI预测无毒性的药物分子, 请放心做决策！\n",
            "分子116:\t这是一个AI预测无毒性的药物分子, 请放心做决策！\n",
            "分子117:\t这是一个AI预测无毒性的药物分子, 请放心做决策！\n",
            "分子118:\t这是一个AI预测无毒性的药物分子, 请放心做决策！\n",
            "分子119:\t这是一个AI预测无毒性的药物分子, 请放心做决策！\n",
            "分子120:\t这是一个AI预测无毒性的药物分子, 请放心做决策！\n",
            "分子121:\t这是一个AI预测无毒性的药物分子, 请放心做决策！\n",
            "分子122:\t这是一个AI预测无毒性的药物分子, 请放心做决策！\n",
            "分子123:\t这是一个AI预测无毒性的药物分子, 请放心做决策！\n",
            "分子124:\t这是一个AI预测无毒性的药物分子, 请放心做决策！\n",
            "分子125:\t这是一个AI预测无毒性的药物分子, 请放心做决策！\n",
            "分子126:\t这是一个AI预测无毒性的药物分子, 请放心做决策！\n",
            "分子127:\t这是一个AI预测无毒性的药物分子, 请放心做决策！\n",
            "分子128:\t这是一个AI预测无毒性的药物分子, 请放心做决策！\n",
            "分子129:\t这是一个AI预测无毒性的药物分子, 请放心做决策！\n",
            "分子130:\t这是一个AI预测有毒性的药物分子, 请谨慎做决策！\n",
            "分子131:\t这是一个AI预测无毒性的药物分子, 请放心做决策！\n",
            "分子132:\t这是一个AI预测无毒性的药物分子, 请放心做决策！\n",
            "分子133:\t这是一个AI预测无毒性的药物分子, 请放心做决策！\n",
            "分子134:\t这是一个AI预测无毒性的药物分子, 请放心做决策！\n",
            "分子135:\t这是一个AI预测无毒性的药物分子, 请放心做决策！\n",
            "分子136:\t这是一个AI预测无毒性的药物分子, 请放心做决策！\n",
            "分子137:\t这是一个AI预测无毒性的药物分子, 请放心做决策！\n",
            "分子138:\t这是一个AI预测无毒性的药物分子, 请放心做决策！\n",
            "分子139:\t这是一个AI预测无毒性的药物分子, 请放心做决策！\n",
            "分子140:\t这是一个AI预测无毒性的药物分子, 请放心做决策！\n",
            "分子141:\t这是一个AI预测无毒性的药物分子, 请放心做决策！\n",
            "分子142:\t这是一个AI预测无毒性的药物分子, 请放心做决策！\n",
            "分子143:\t这是一个AI预测无毒性的药物分子, 请放心做决策！\n",
            "分子144:\t这是一个AI预测无毒性的药物分子, 请放心做决策！\n",
            "分子145:\t这是一个AI预测无毒性的药物分子, 请放心做决策！\n",
            "分子146:\t这是一个AI预测无毒性的药物分子, 请放心做决策！\n",
            "分子147:\t这是一个AI预测无毒性的药物分子, 请放心做决策！\n",
            "分子148:\t这是一个AI预测无毒性的药物分子, 请放心做决策！\n",
            "分子149:\t这是一个AI预测无毒性的药物分子, 请放心做决策！\n",
            "分子150:\t这是一个AI预测无毒性的药物分子, 请放心做决策！\n",
            "分子151:\t这是一个AI预测无毒性的药物分子, 请放心做决策！\n",
            "分子152:\t这是一个AI预测无毒性的药物分子, 请放心做决策！\n",
            "分子153:\t这是一个AI预测无毒性的药物分子, 请放心做决策！\n",
            "分子154:\t这是一个AI预测无毒性的药物分子, 请放心做决策！\n",
            "分子155:\t这是一个AI预测无毒性的药物分子, 请放心做决策！\n",
            "分子156:\t这是一个AI预测无毒性的药物分子, 请放心做决策！\n",
            "分子157:\t这是一个AI预测无毒性的药物分子, 请放心做决策！\n",
            "分子158:\t这是一个AI预测无毒性的药物分子, 请放心做决策！\n",
            "分子159:\t这是一个AI预测无毒性的药物分子, 请放心做决策！\n",
            "分子160:\t这是一个AI预测无毒性的药物分子, 请放心做决策！\n",
            "分子161:\t这是一个AI预测无毒性的药物分子, 请放心做决策！\n",
            "分子162:\t这是一个AI预测无毒性的药物分子, 请放心做决策！\n",
            "分子163:\t这是一个AI预测无毒性的药物分子, 请放心做决策！\n",
            "分子164:\t这是一个AI预测无毒性的药物分子, 请放心做决策！\n",
            "分子165:\t这是一个AI预测无毒性的药物分子, 请放心做决策！\n",
            "分子166:\t这是一个AI预测无毒性的药物分子, 请放心做决策！\n",
            "分子167:\t这是一个AI预测无毒性的药物分子, 请放心做决策！\n",
            "分子168:\t这是一个AI预测无毒性的药物分子, 请放心做决策！\n",
            "分子169:\t这是一个AI预测无毒性的药物分子, 请放心做决策！\n",
            "分子170:\t这是一个AI预测无毒性的药物分子, 请放心做决策！\n",
            "分子171:\t这是一个AI预测无毒性的药物分子, 请放心做决策！\n",
            "分子172:\t这是一个AI预测无毒性的药物分子, 请放心做决策！\n",
            "分子173:\t这是一个AI预测无毒性的药物分子, 请放心做决策！\n",
            "分子174:\t这是一个AI预测无毒性的药物分子, 请放心做决策！\n",
            "分子175:\t这是一个AI预测无毒性的药物分子, 请放心做决策！\n",
            "分子176:\t这是一个AI预测无毒性的药物分子, 请放心做决策！\n",
            "分子177:\t这是一个AI预测无毒性的药物分子, 请放心做决策！\n",
            "分子178:\t这是一个AI预测有毒性的药物分子, 请谨慎做决策！\n",
            "分子179:\t这是一个AI预测无毒性的药物分子, 请放心做决策！\n",
            "分子180:\t这是一个AI预测无毒性的药物分子, 请放心做决策！\n",
            "分子181:\t这是一个AI预测无毒性的药物分子, 请放心做决策！\n",
            "分子182:\t这是一个AI预测无毒性的药物分子, 请放心做决策！\n",
            "分子183:\t这是一个AI预测无毒性的药物分子, 请放心做决策！\n",
            "分子184:\t这是一个AI预测无毒性的药物分子, 请放心做决策！\n",
            "分子185:\t这是一个AI预测无毒性的药物分子, 请放心做决策！\n",
            "分子186:\t这是一个AI预测无毒性的药物分子, 请放心做决策！\n",
            "分子187:\t这是一个AI预测无毒性的药物分子, 请放心做决策！\n",
            "分子188:\t这是一个AI预测无毒性的药物分子, 请放心做决策！\n",
            "分子189:\t这是一个AI预测无毒性的药物分子, 请放心做决策！\n",
            "分子190:\t这是一个AI预测无毒性的药物分子, 请放心做决策！\n",
            "分子191:\t这是一个AI预测无毒性的药物分子, 请放心做决策！\n",
            "分子192:\t这是一个AI预测无毒性的药物分子, 请放心做决策！\n",
            "分子193:\t这是一个AI预测无毒性的药物分子, 请放心做决策！\n",
            "分子194:\t这是一个AI预测有毒性的药物分子, 请谨慎做决策！\n",
            "分子195:\t这是一个AI预测无毒性的药物分子, 请放心做决策！\n",
            "分子196:\t这是一个AI预测无毒性的药物分子, 请放心做决策！\n",
            "分子197:\t这是一个AI预测无毒性的药物分子, 请放心做决策！\n",
            "分子198:\t这是一个AI预测无毒性的药物分子, 请放心做决策！\n",
            "分子199:\t这是一个AI预测无毒性的药物分子, 请放心做决策！\n"
          ]
        }
      ]
    }
  ]
}