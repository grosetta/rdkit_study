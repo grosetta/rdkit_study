{
  "nbformat": 4,
  "nbformat_minor": 0,
  "metadata": {
    "colab": {
      "provenance": [],
      "authorship_tag": "ABX9TyN4upBdpztIonwnv3BHhzTy",
      "include_colab_link": true
    },
    "kernelspec": {
      "name": "python3",
      "display_name": "Python 3"
    },
    "language_info": {
      "name": "python"
    }
  },
  "cells": [
    {
      "cell_type": "markdown",
      "metadata": {
        "id": "view-in-github",
        "colab_type": "text"
      },
      "source": [
        "<a href=\"https://colab.research.google.com/github/grosetta/rdkit_study/blob/main/%E7%8E%AF%E5%A2%83%E9%85%8D%E7%BD%AE.ipynb\" target=\"_parent\"><img src=\"https://colab.research.google.com/assets/colab-badge.svg\" alt=\"Open In Colab\"/></a>"
      ]
    },
    {
      "cell_type": "code",
      "execution_count": null,
      "metadata": {
        "id": "4O_T2OCZ-MBc"
      },
      "outputs": [],
      "source": [
        "import os, sys \n",
        "# 挂载google drive\n",
        "from google.colab import drive \n",
        "drive.mount('/content/gdrive') \n",
        " \n",
        "nb_path = '/content/notebooks'\n",
        "os.symlink('/content/drive/MyDrive/Colab Notebooks', nb_path)  #添加软连接\n",
        "sys.path.insert(0, nb_path)  # or append(nb_path)"
      ]
    },
    {
      "cell_type": "code",
      "source": [
        "!pip install rdkit --target=$nb_path/python_package"
      ],
      "metadata": {
        "id": "AzG1fdNwBkH2"
      },
      "execution_count": null,
      "outputs": []
    },
    {
      "cell_type": "code",
      "source": [
        "!pip install deepchem --target=$nb_path/python_package"
      ],
      "metadata": {
        "id": "tvZyfzfFEktB"
      },
      "execution_count": null,
      "outputs": []
    },
    {
      "cell_type": "code",
      "source": [
        "!pip install dgl --target=$nb_path/python_package"
      ],
      "metadata": {
        "id": "fpBZ2_AhHE7r"
      },
      "execution_count": null,
      "outputs": []
    },
    {
      "cell_type": "code",
      "source": [
        "!pip install pandas --target=$nb_path/python_package"
      ],
      "metadata": {
        "id": "Le181-YsT7RP"
      },
      "execution_count": null,
      "outputs": []
    },
    {
      "cell_type": "code",
      "source": [
        "!pip install matplotlib --target=$nb_path/python_package"
      ],
      "metadata": {
        "id": "Qc11Wlshc6IO"
      },
      "execution_count": null,
      "outputs": []
    },
    {
      "cell_type": "code",
      "source": [
        "#文件头代码\n",
        "import sys\n",
        "from google.colab import drive\n",
        "drive.mount('/content/gdrive')\n",
        "sys.path.insert(0,\"/content/gdrive/My Drive/Colab Notebooks/python_package/\")"
      ],
      "metadata": {
        "colab": {
          "base_uri": "https://localhost:8080/"
        },
        "id": "i7rtU5ZS-tCt",
        "outputId": "4b4f2576-e9f8-45ec-e748-6f8d7b2b4922"
      },
      "execution_count": null,
      "outputs": [
        {
          "output_type": "stream",
          "name": "stdout",
          "text": [
            "Mounted at /content/gdrive\n"
          ]
        }
      ]
    },
    {
      "cell_type": "code",
      "source": [
        "import rdkit\n",
        "import deepchem\n",
        "import dgl"
      ],
      "metadata": {
        "id": "lmil_RQ3DiLj"
      },
      "execution_count": null,
      "outputs": []
    }
  ]
}