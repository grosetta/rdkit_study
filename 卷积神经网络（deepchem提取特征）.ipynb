{
  "nbformat": 4,
  "nbformat_minor": 0,
  "metadata": {
    "colab": {
      "provenance": [],
      "authorship_tag": "ABX9TyPtwE95ze/tTbagkJHA0W/q",
      "include_colab_link": true
    },
    "kernelspec": {
      "name": "python3",
      "display_name": "Python 3"
    },
    "language_info": {
      "name": "python"
    }
  },
  "cells": [
    {
      "cell_type": "markdown",
      "metadata": {
        "id": "view-in-github",
        "colab_type": "text"
      },
      "source": [
        "<a href=\"https://colab.research.google.com/github/grosetta/rdkit_study/blob/main/%E5%8D%B7%E7%A7%AF%E7%A5%9E%E7%BB%8F%E7%BD%91%E7%BB%9C%EF%BC%88deepchem%E6%8F%90%E5%8F%96%E7%89%B9%E5%BE%81%EF%BC%89.ipynb\" target=\"_parent\"><img src=\"https://colab.research.google.com/assets/colab-badge.svg\" alt=\"Open In Colab\"/></a>"
      ]
    },
    {
      "cell_type": "code",
      "execution_count": 1,
      "metadata": {
        "colab": {
          "base_uri": "https://localhost:8080/"
        },
        "id": "reQi6pVuEGpM",
        "outputId": "fc0147d3-49a2-4da6-c721-8378990f6afd"
      },
      "outputs": [
        {
          "output_type": "stream",
          "name": "stdout",
          "text": [
            "Mounted at /content/gdrive\n"
          ]
        }
      ],
      "source": [
        "#文件头代码\n",
        "import sys\n",
        "from google.colab import drive\n",
        "drive.mount('/content/gdrive')\n",
        "sys.path.insert(0,\"/content/gdrive/My Drive/Colab Notebooks/python_package/\")"
      ]
    },
    {
      "cell_type": "code",
      "source": [
        "from __future__ import division\n",
        "from __future__ import print_function\n",
        "from __future__ import unicode_literals\n",
        "\n",
        "import os\n",
        "import numpy as np\n",
        "import pandas as pd\n",
        "import tensorflow as tf\n",
        "\n",
        "tf.random.set_seed(123)\n",
        "\n",
        "import rdkit\n",
        "from rdkit import Chem\n",
        "from rdkit.Chem import Draw\n",
        "from rdkit.Chem import AllChem\n",
        "from rdkit.Chem import MACCSkeys\n",
        "from rdkit.Chem import DataStructs\n",
        "import deepchem as dc\n",
        "from deepchem.molnet import load_tox21\n",
        "from deepchem.models.graph_models import GraphConvModel\n",
        "\n",
        "import dgl\n",
        "import networkx as nx\n",
        "import scipyimport dgl\n",
        "import networkx as nx\n",
        "import scipy"
      ],
      "metadata": {
        "colab": {
          "base_uri": "https://localhost:8080/"
        },
        "id": "eoeWPfpaExBb",
        "outputId": "9e586189-9c94-4120-a08f-d12a1e9a9b3e"
      },
      "execution_count": 2,
      "outputs": [
        {
          "output_type": "stream",
          "name": "stderr",
          "text": [
            "WARNING:deepchem.models.torch_models:Skipped loading modules with pytorch-geometric dependency, missing a dependency. No module named 'torch_geometric'\n",
            "WARNING:deepchem.models:Skipped loading modules with pytorch-geometric dependency, missing a dependency. cannot import name 'DMPNN' from 'deepchem.models.torch_models' (/content/gdrive/My Drive/Colab Notebooks/python_package/deepchem/models/torch_models/__init__.py)\n",
            "WARNING:deepchem.models:Skipped loading modules with pytorch-lightning dependency, missing a dependency. No module named 'pytorch_lightning'\n",
            "WARNING:deepchem.models:Skipped loading some Jax models, missing a dependency. No module named 'haiku'\n"
          ]
        }
      ]
    },
    {
      "cell_type": "code",
      "source": [
        "Excel_mols = \"/content/gdrive/My Drive/data/tox21.xlsx\"\n",
        "sheet_names = list(pd.read_excel(Excel_mols, sheet_name=None))\n",
        "df0 = pd.read_excel(Excel_mols, sheet_name=sheet_names[0])\n",
        "df = pd.read_excel(Excel_mols, sheet_name=sheet_names[0])\n",
        "columns = df.columns.tolist()\n",
        "#过滤掉smile为空的行\n",
        "df = df[df[\"smiles\"] != '']"
      ],
      "metadata": {
        "id": "bm6WgaczF1ai"
      },
      "execution_count": 3,
      "outputs": []
    },
    {
      "cell_type": "code",
      "source": [
        "# input: X\n",
        "train = df.sample(frac=0.8, replace=False, random_state=0)\n",
        "valid = df[~df.index.isin(train.index)]\n",
        "\n",
        "# input: y \n",
        "# 中位数填补\n",
        "target=df[\"SR-p53\"]\n",
        "target.fillna(target.median(),inplace=True)\n",
        "train_target = target.sample(frac=0.8, replace=False, random_state=0)\n",
        "valid_target = target[~target.index.isin(train_target.index)]"
      ],
      "metadata": {
        "id": "Pk6Kpv8XHGuA"
      },
      "execution_count": 5,
      "outputs": []
    },
    {
      "cell_type": "code",
      "source": [
        "# training set\n",
        "# smiles list\n",
        "list_name = list(train[\"mol_id\"])\n",
        "list_smiles = list(train[\"smiles\"])\n",
        "# smiles转换为mol分子\n",
        "mols = [Chem.MolFromSmiles(i) for i in list_smiles]\n",
        "mols = [rdkit.Chem.AddHs(i) for i in mols]\n",
        "#实例化ConvMolFeaturizer（用卷积算法提取特征）\n",
        "feature = dc.feat.ConvMolFeaturizer()\n",
        "train_features = feature.featurize(mols)"
      ],
      "metadata": {
        "id": "3MEXKjCLHkDX"
      },
      "execution_count": 7,
      "outputs": []
    },
    {
      "cell_type": "code",
      "source": [
        "#分子中原子的数量\n",
        "conmol = train_features[1]\n",
        "conmol.get_num_atoms()\n",
        "#邻接矩阵\n",
        "k = conmol.get_adjacency_list()\n",
        "#k转换为正常矩阵\n",
        "M = np.zeros((len(k), len(k)))\n",
        "for i in range(len(k)):\n",
        "    for j in k[i]:\n",
        "        M[i,j] = 1\n",
        "k = M\n",
        "print(k)"
      ],
      "metadata": {
        "colab": {
          "base_uri": "https://localhost:8080/"
        },
        "id": "gFlQNzRJHoMv",
        "outputId": "81944ab2-8121-4e71-d5fd-041ba2f74f2b"
      },
      "execution_count": 10,
      "outputs": [
        {
          "output_type": "stream",
          "name": "stdout",
          "text": [
            "[[0. 0. 0. 0. 0. 0. 0. 0. 0. 0. 0. 0. 0. 1.]\n",
            " [0. 0. 0. 0. 0. 0. 0. 0. 0. 0. 0. 0. 0. 1.]\n",
            " [0. 0. 0. 0. 0. 0. 0. 0. 0. 0. 1. 0. 0. 0.]\n",
            " [0. 0. 0. 0. 0. 0. 0. 0. 0. 0. 1. 0. 0. 0.]\n",
            " [0. 0. 0. 0. 0. 0. 0. 0. 0. 0. 0. 1. 0. 0.]\n",
            " [0. 0. 0. 0. 0. 0. 0. 0. 0. 0. 0. 1. 0. 0.]\n",
            " [0. 0. 0. 0. 0. 0. 0. 0. 0. 0. 0. 0. 1. 0.]\n",
            " [0. 0. 0. 0. 0. 0. 0. 0. 0. 0. 0. 0. 1. 0.]\n",
            " [0. 0. 0. 0. 0. 0. 0. 0. 0. 1. 0. 0. 0. 0.]\n",
            " [0. 0. 0. 0. 0. 0. 0. 0. 1. 0. 0. 0. 0. 1.]\n",
            " [0. 0. 1. 1. 0. 0. 0. 0. 0. 0. 0. 1. 0. 0.]\n",
            " [0. 0. 0. 0. 1. 1. 0. 0. 0. 0. 1. 0. 1. 0.]\n",
            " [0. 0. 0. 0. 0. 0. 1. 1. 0. 0. 0. 1. 0. 1.]\n",
            " [1. 1. 0. 0. 0. 0. 0. 0. 0. 1. 0. 0. 1. 0.]]\n"
          ]
        }
      ]
    },
    {
      "cell_type": "code",
      "source": [
        "import dgl\n",
        "import networkx as nx\n",
        "import scipy\n",
        "k = scipy.sparse.coo_matrix(k)\n",
        "graph = dgl.DGLGraph(k)\n",
        "nx.draw(graph.to_networkx(), with_labels=True)\n",
        "mol1 = Chem.MolFromSmiles(list_smiles[0])\n",
        "Draw.MolToImage(mol1, size=(600, 600))"
      ],
      "metadata": {
        "colab": {
          "base_uri": "https://localhost:8080/",
          "height": 1000
        },
        "id": "P6CzdlkuIOUX",
        "outputId": "aaa67d0c-67e7-48a4-8c29-eef164339a7a"
      },
      "execution_count": 11,
      "outputs": [
        {
          "output_type": "stream",
          "name": "stderr",
          "text": [
            "DGL backend not selected or invalid.  Assuming PyTorch for now.\n"
          ]
        },
        {
          "output_type": "stream",
          "name": "stdout",
          "text": [
            "Setting the default backend to \"pytorch\". You can change it in the ~/.dgl/config.json file or export the DGLBACKEND environment variable.  Valid options are: pytorch, mxnet, tensorflow (all lowercase)\n"
          ]
        },
        {
          "output_type": "stream",
          "name": "stderr",
          "text": [
            "/content/gdrive/My Drive/Colab Notebooks/python_package/dgl/heterograph.py:72: DGLWarning: Recommend creating graphs by `dgl.graph(data)` instead of `dgl.DGLGraph(data)`.\n",
            "  dgl_warning('Recommend creating graphs by `dgl.graph(data)`'\n"
          ]
        },
        {
          "output_type": "execute_result",
          "data": {
            "text/plain": [
              "<PIL.PngImagePlugin.PngImageFile image mode=RGB size=600x600 at 0x7F34362F1FD0>"
            ],
            "image/png": "[encoded data removed]"
          },
          "metadata": {},
          "execution_count": 11
        },
        {
          "output_type": "display_data",
          "data": {
            "text/plain": [
              "<Figure size 432x288 with 1 Axes>"
            ],
            "image/png": "[encoded data removed]"
          },
          "metadata": {}
        }
      ]
    },
    {
      "cell_type": "code",
      "source": [
        "# smiles list\n",
        "list_name = list(valid[\"mol_id\"])\n",
        "list_smiles = list(valid[\"smiles\"])\n",
        "# smiles转换为mol分子\n",
        "mols = [Chem.MolFromSmiles(i) for i in list_smiles]\n",
        "mols = [rdkit.Chem.AddHs(i) for i in mols]\n",
        "#实例化ConvMolFeaturizer\n",
        "feature = dc.feat.ConvMolFeaturizer()\n",
        "valid_features = feature.featurize(mols)"
      ],
      "metadata": {
        "id": "wFGEmm5oI56t"
      },
      "execution_count": 12,
      "outputs": []
    },
    {
      "cell_type": "code",
      "source": [
        "# 单任务分类\n",
        "tox21_tasks = [\"SR-p53\"]"
      ],
      "metadata": {
        "id": "-9H_-zQDJDg1"
      },
      "execution_count": 13,
      "outputs": []
    },
    {
      "cell_type": "code",
      "source": [
        "import tempfile\n",
        "with tempfile.TemporaryDirectory() as data_dir:\n",
        "    train_dataset = dc.data.DiskDataset.from_numpy(X=np.array(train_features), y=np.array(train_target), \n",
        "    tasks = tox21_tasks, data_dir='./dev')\n",
        "    print(train_dataset)\n",
        "\n",
        "\n",
        "import tempfile\n",
        "with tempfile.TemporaryDirectory() as data_dir:\n",
        "    valid_dataset = dc.data.DiskDataset.from_numpy(X=np.array(valid_features), y=np.array(valid_target),\n",
        "    tasks = tox21_tasks, data_dir='./val')\n",
        "    print(valid_dataset)"
      ],
      "metadata": {
        "colab": {
          "base_uri": "https://localhost:8080/"
        },
        "id": "GKSVeR1AJGo2",
        "outputId": "b4547a87-4145-4cbf-959e-97bdf8a7f002"
      },
      "execution_count": 14,
      "outputs": [
        {
          "output_type": "stream",
          "name": "stdout",
          "text": [
            "<DiskDataset X.shape: (6411,), y.shape: (6411,), w.shape: (6411,), task_names: ['SR-p53']>\n",
            "<DiskDataset X.shape: (1603,), y.shape: (1603,), w.shape: (1603,), task_names: ['SR-p53']>\n"
          ]
        }
      ]
    },
    {
      "cell_type": "code",
      "source": [
        "# Fit models\n",
        "metric = dc.metrics.Metric(dc.metrics.roc_auc_score, np.mean, mode=\"classification\")\n",
        "# Batch size of models\n",
        "batch_size = 50\n",
        "model = GraphConvModel(len(tox21_tasks), batch_size=batch_size, mode='classification')\n",
        "model.fit(train_dataset, nb_epoch=10)"
      ],
      "metadata": {
        "id": "NwmiUoSSJIpO"
      },
      "execution_count": null,
      "outputs": []
    },
    {
      "cell_type": "code",
      "source": [
        "print(\"Evaluating model\")\n",
        "train_scores = model.evaluate(train_dataset, [metric])\n",
        "valid_scores = model.evaluate(valid_dataset, [metric])\n",
        "\n",
        "print(\"Train scores\")\n",
        "print(train_scores)\n",
        "\n",
        "print(\"Validation scores\")\n",
        "print(valid_scores)"
      ],
      "metadata": {
        "colab": {
          "base_uri": "https://localhost:8080/"
        },
        "id": "vlTR_bpUJgSX",
        "outputId": "b03598fb-bed4-426d-aa4f-71d8121cc552"
      },
      "execution_count": 16,
      "outputs": [
        {
          "output_type": "stream",
          "name": "stdout",
          "text": [
            "Evaluating model\n",
            "Train scores\n",
            "{'mean-roc_auc_score': 0.899661304080553}\n",
            "Validation scores\n",
            "{'mean-roc_auc_score': 0.7052545919553592}\n"
          ]
        }
      ]
    },
    {
      "cell_type": "markdown",
      "source": [
        "# 预测未知药物分子毒性"
      ],
      "metadata": {
        "id": "3mxAWcunJhMV"
      }
    },
    {
      "cell_type": "code",
      "source": [
        "list_smiles = []\n",
        "list_mols = Chem.SDMolSupplier('/content/gdrive/My Drive/data/molecules.sdf')\n",
        "for mol in list_mols:\n",
        "    smi = Chem.MolToSmiles(mol)\n",
        "    list_smiles.append(smi)\n",
        "    #print(smi)\n",
        "    \n",
        "\n",
        "# smiles转换为mol分子\n",
        "mols = [Chem.MolFromSmiles(i) for i in list_smiles]\n",
        "mols = [rdkit.Chem.AddHs(i) for i in mols]\n",
        "#实例化ConvMolFeaturizer\n",
        "feature = dc.feat.ConvMolFeaturizer()\n",
        "test_features = feature.featurize(mols)\n",
        "\n",
        "\n",
        "# CC(=O)Nc1ccc(O)cc1\n",
        "mol1 = Chem.MolFromSmiles(list_smiles[0])\n",
        "Draw.MolToImage(mol1, size=(600, 600))\n",
        "#print(Draw.MolToImage(mol1, size=(600, 600)))\n",
        "#Draw.ShowMol(mol1, size=(300,300), kekulize=False)\n",
        "\n",
        "\n",
        "try:\n",
        "    os.mkdir('./test')\n",
        "except FileExistsError:\n",
        "    pass\n",
        "\n",
        "import tempfile\n",
        "with tempfile.TemporaryDirectory() as data_dir:\n",
        "    test_dataset = dc.data.DiskDataset.from_numpy(X=np.array(test_features), tasks = tox21_tasks, data_dir='./test')\n",
        "    #print(test_dataset.X)\n",
        "\n",
        "\n",
        "dict_label = {0:'无毒性', 1:'有毒性'}\n",
        "# 概率预测模型\n",
        "predictions_probability = model.predict(test_dataset)\n",
        "\n",
        "for i, smi in enumerate(list_smiles):\n",
        "    mol = Chem.MolFromSmiles(smi)\n",
        "    Draw.MolToImage(mol, size=(600, 600))\n",
        "    pred_label = dict_label[np.argmax(predictions_probability[i])]\n",
        "    if pred_label=='无毒性':\n",
        "        print('分子{}:\\t'.format(i) + '这是一个AI预测' + pred_label + '的药物分子, 请放心做决策！')\n",
        "    elif pred_label=='有毒性':\n",
        "        print('分子{}:\\t'.format(i) + '这是一个AI预测' + pred_label + '的药物分子, 请谨慎做决策！')\n",
        "        Draw.MolToImage(mol, size=(600, 600))"
      ],
      "metadata": {
        "colab": {
          "base_uri": "https://localhost:8080/"
        },
        "id": "TbDHvH6cJpjm",
        "outputId": "7dcfd60d-afeb-4796-9352-84bfc123881d"
      },
      "execution_count": 20,
      "outputs": [
        {
          "output_type": "stream",
          "name": "stdout",
          "text": [
            "分子0:\t这是一个AI预测无毒性的药物分子, 请放心做决策！\n",
            "分子1:\t这是一个AI预测无毒性的药物分子, 请放心做决策！\n",
            "分子2:\t这是一个AI预测无毒性的药物分子, 请放心做决策！\n",
            "分子3:\t这是一个AI预测无毒性的药物分子, 请放心做决策！\n",
            "分子4:\t这是一个AI预测无毒性的药物分子, 请放心做决策！\n",
            "分子5:\t这是一个AI预测无毒性的药物分子, 请放心做决策！\n",
            "分子6:\t这是一个AI预测无毒性的药物分子, 请放心做决策！\n",
            "分子7:\t这是一个AI预测无毒性的药物分子, 请放心做决策！\n",
            "分子8:\t这是一个AI预测无毒性的药物分子, 请放心做决策！\n",
            "分子9:\t这是一个AI预测有毒性的药物分子, 请谨慎做决策！\n",
            "分子10:\t这是一个AI预测无毒性的药物分子, 请放心做决策！\n",
            "分子11:\t这是一个AI预测无毒性的药物分子, 请放心做决策！\n",
            "分子12:\t这是一个AI预测无毒性的药物分子, 请放心做决策！\n",
            "分子13:\t这是一个AI预测无毒性的药物分子, 请放心做决策！\n",
            "分子14:\t这是一个AI预测无毒性的药物分子, 请放心做决策！\n",
            "分子15:\t这是一个AI预测无毒性的药物分子, 请放心做决策！\n",
            "分子16:\t这是一个AI预测无毒性的药物分子, 请放心做决策！\n",
            "分子17:\t这是一个AI预测无毒性的药物分子, 请放心做决策！\n",
            "分子18:\t这是一个AI预测无毒性的药物分子, 请放心做决策！\n",
            "分子19:\t这是一个AI预测无毒性的药物分子, 请放心做决策！\n",
            "分子20:\t这是一个AI预测无毒性的药物分子, 请放心做决策！\n",
            "分子21:\t这是一个AI预测无毒性的药物分子, 请放心做决策！\n",
            "分子22:\t这是一个AI预测无毒性的药物分子, 请放心做决策！\n",
            "分子23:\t这是一个AI预测无毒性的药物分子, 请放心做决策！\n",
            "分子24:\t这是一个AI预测无毒性的药物分子, 请放心做决策！\n",
            "分子25:\t这是一个AI预测无毒性的药物分子, 请放心做决策！\n",
            "分子26:\t这是一个AI预测无毒性的药物分子, 请放心做决策！\n",
            "分子27:\t这是一个AI预测无毒性的药物分子, 请放心做决策！\n",
            "分子28:\t这是一个AI预测无毒性的药物分子, 请放心做决策！\n",
            "分子29:\t这是一个AI预测无毒性的药物分子, 请放心做决策！\n",
            "分子30:\t这是一个AI预测无毒性的药物分子, 请放心做决策！\n",
            "分子31:\t这是一个AI预测无毒性的药物分子, 请放心做决策！\n",
            "分子32:\t这是一个AI预测无毒性的药物分子, 请放心做决策！\n",
            "分子33:\t这是一个AI预测无毒性的药物分子, 请放心做决策！\n",
            "分子34:\t这是一个AI预测无毒性的药物分子, 请放心做决策！\n",
            "分子35:\t这是一个AI预测无毒性的药物分子, 请放心做决策！\n",
            "分子36:\t这是一个AI预测无毒性的药物分子, 请放心做决策！\n",
            "分子37:\t这是一个AI预测无毒性的药物分子, 请放心做决策！\n",
            "分子38:\t这是一个AI预测无毒性的药物分子, 请放心做决策！\n",
            "分子39:\t这是一个AI预测无毒性的药物分子, 请放心做决策！\n",
            "分子40:\t这是一个AI预测无毒性的药物分子, 请放心做决策！\n",
            "分子41:\t这是一个AI预测无毒性的药物分子, 请放心做决策！\n",
            "分子42:\t这是一个AI预测无毒性的药物分子, 请放心做决策！\n",
            "分子43:\t这是一个AI预测无毒性的药物分子, 请放心做决策！\n",
            "分子44:\t这是一个AI预测无毒性的药物分子, 请放心做决策！\n",
            "分子45:\t这是一个AI预测无毒性的药物分子, 请放心做决策！\n",
            "分子46:\t这是一个AI预测无毒性的药物分子, 请放心做决策！\n",
            "分子47:\t这是一个AI预测无毒性的药物分子, 请放心做决策！\n",
            "分子48:\t这是一个AI预测无毒性的药物分子, 请放心做决策！\n",
            "分子49:\t这是一个AI预测无毒性的药物分子, 请放心做决策！\n",
            "分子50:\t这是一个AI预测无毒性的药物分子, 请放心做决策！\n",
            "分子51:\t这是一个AI预测无毒性的药物分子, 请放心做决策！\n",
            "分子52:\t这是一个AI预测无毒性的药物分子, 请放心做决策！\n",
            "分子53:\t这是一个AI预测无毒性的药物分子, 请放心做决策！\n",
            "分子54:\t这是一个AI预测无毒性的药物分子, 请放心做决策！\n",
            "分子55:\t这是一个AI预测无毒性的药物分子, 请放心做决策！\n",
            "分子56:\t这是一个AI预测无毒性的药物分子, 请放心做决策！\n",
            "分子57:\t这是一个AI预测无毒性的药物分子, 请放心做决策！\n",
            "分子58:\t这是一个AI预测无毒性的药物分子, 请放心做决策！\n",
            "分子59:\t这是一个AI预测无毒性的药物分子, 请放心做决策！\n",
            "分子60:\t这是一个AI预测无毒性的药物分子, 请放心做决策！\n",
            "分子61:\t这是一个AI预测无毒性的药物分子, 请放心做决策！\n",
            "分子62:\t这是一个AI预测无毒性的药物分子, 请放心做决策！\n",
            "分子63:\t这是一个AI预测无毒性的药物分子, 请放心做决策！\n",
            "分子64:\t这是一个AI预测无毒性的药物分子, 请放心做决策！\n",
            "分子65:\t这是一个AI预测无毒性的药物分子, 请放心做决策！\n",
            "分子66:\t这是一个AI预测无毒性的药物分子, 请放心做决策！\n",
            "分子67:\t这是一个AI预测无毒性的药物分子, 请放心做决策！\n",
            "分子68:\t这是一个AI预测无毒性的药物分子, 请放心做决策！\n",
            "分子69:\t这是一个AI预测无毒性的药物分子, 请放心做决策！\n",
            "分子70:\t这是一个AI预测无毒性的药物分子, 请放心做决策！\n",
            "分子71:\t这是一个AI预测无毒性的药物分子, 请放心做决策！\n",
            "分子72:\t这是一个AI预测无毒性的药物分子, 请放心做决策！\n",
            "分子73:\t这是一个AI预测无毒性的药物分子, 请放心做决策！\n",
            "分子74:\t这是一个AI预测无毒性的药物分子, 请放心做决策！\n",
            "分子75:\t这是一个AI预测无毒性的药物分子, 请放心做决策！\n",
            "分子76:\t这是一个AI预测无毒性的药物分子, 请放心做决策！\n",
            "分子77:\t这是一个AI预测无毒性的药物分子, 请放心做决策！\n",
            "分子78:\t这是一个AI预测无毒性的药物分子, 请放心做决策！\n",
            "分子79:\t这是一个AI预测无毒性的药物分子, 请放心做决策！\n",
            "分子80:\t这是一个AI预测无毒性的药物分子, 请放心做决策！\n",
            "分子81:\t这是一个AI预测无毒性的药物分子, 请放心做决策！\n",
            "分子82:\t这是一个AI预测无毒性的药物分子, 请放心做决策！\n",
            "分子83:\t这是一个AI预测无毒性的药物分子, 请放心做决策！\n",
            "分子84:\t这是一个AI预测无毒性的药物分子, 请放心做决策！\n",
            "分子85:\t这是一个AI预测无毒性的药物分子, 请放心做决策！\n",
            "分子86:\t这是一个AI预测无毒性的药物分子, 请放心做决策！\n",
            "分子87:\t这是一个AI预测无毒性的药物分子, 请放心做决策！\n",
            "分子88:\t这是一个AI预测无毒性的药物分子, 请放心做决策！\n",
            "分子89:\t这是一个AI预测无毒性的药物分子, 请放心做决策！\n",
            "分子90:\t这是一个AI预测无毒性的药物分子, 请放心做决策！\n",
            "分子91:\t这是一个AI预测无毒性的药物分子, 请放心做决策！\n",
            "分子92:\t这是一个AI预测无毒性的药物分子, 请放心做决策！\n",
            "分子93:\t这是一个AI预测无毒性的药物分子, 请放心做决策！\n",
            "分子94:\t这是一个AI预测无毒性的药物分子, 请放心做决策！\n",
            "分子95:\t这是一个AI预测无毒性的药物分子, 请放心做决策！\n",
            "分子96:\t这是一个AI预测无毒性的药物分子, 请放心做决策！\n",
            "分子97:\t这是一个AI预测无毒性的药物分子, 请放心做决策！\n",
            "分子98:\t这是一个AI预测无毒性的药物分子, 请放心做决策！\n",
            "分子99:\t这是一个AI预测无毒性的药物分子, 请放心做决策！\n",
            "分子100:\t这是一个AI预测无毒性的药物分子, 请放心做决策！\n",
            "分子101:\t这是一个AI预测无毒性的药物分子, 请放心做决策！\n",
            "分子102:\t这是一个AI预测无毒性的药物分子, 请放心做决策！\n",
            "分子103:\t这是一个AI预测无毒性的药物分子, 请放心做决策！\n",
            "分子104:\t这是一个AI预测无毒性的药物分子, 请放心做决策！\n",
            "分子105:\t这是一个AI预测无毒性的药物分子, 请放心做决策！\n",
            "分子106:\t这是一个AI预测无毒性的药物分子, 请放心做决策！\n",
            "分子107:\t这是一个AI预测无毒性的药物分子, 请放心做决策！\n",
            "分子108:\t这是一个AI预测无毒性的药物分子, 请放心做决策！\n",
            "分子109:\t这是一个AI预测无毒性的药物分子, 请放心做决策！\n",
            "分子110:\t这是一个AI预测无毒性的药物分子, 请放心做决策！\n",
            "分子111:\t这是一个AI预测无毒性的药物分子, 请放心做决策！\n",
            "分子112:\t这是一个AI预测无毒性的药物分子, 请放心做决策！\n",
            "分子113:\t这是一个AI预测无毒性的药物分子, 请放心做决策！\n",
            "分子114:\t这是一个AI预测无毒性的药物分子, 请放心做决策！\n",
            "分子115:\t这是一个AI预测无毒性的药物分子, 请放心做决策！\n",
            "分子116:\t这是一个AI预测无毒性的药物分子, 请放心做决策！\n",
            "分子117:\t这是一个AI预测无毒性的药物分子, 请放心做决策！\n",
            "分子118:\t这是一个AI预测无毒性的药物分子, 请放心做决策！\n",
            "分子119:\t这是一个AI预测无毒性的药物分子, 请放心做决策！\n",
            "分子120:\t这是一个AI预测无毒性的药物分子, 请放心做决策！\n",
            "分子121:\t这是一个AI预测无毒性的药物分子, 请放心做决策！\n",
            "分子122:\t这是一个AI预测无毒性的药物分子, 请放心做决策！\n",
            "分子123:\t这是一个AI预测无毒性的药物分子, 请放心做决策！\n",
            "分子124:\t这是一个AI预测无毒性的药物分子, 请放心做决策！\n",
            "分子125:\t这是一个AI预测无毒性的药物分子, 请放心做决策！\n",
            "分子126:\t这是一个AI预测无毒性的药物分子, 请放心做决策！\n",
            "分子127:\t这是一个AI预测无毒性的药物分子, 请放心做决策！\n",
            "分子128:\t这是一个AI预测无毒性的药物分子, 请放心做决策！\n",
            "分子129:\t这是一个AI预测无毒性的药物分子, 请放心做决策！\n",
            "分子130:\t这是一个AI预测无毒性的药物分子, 请放心做决策！\n",
            "分子131:\t这是一个AI预测无毒性的药物分子, 请放心做决策！\n",
            "分子132:\t这是一个AI预测无毒性的药物分子, 请放心做决策！\n",
            "分子133:\t这是一个AI预测无毒性的药物分子, 请放心做决策！\n",
            "分子134:\t这是一个AI预测无毒性的药物分子, 请放心做决策！\n",
            "分子135:\t这是一个AI预测无毒性的药物分子, 请放心做决策！\n",
            "分子136:\t这是一个AI预测无毒性的药物分子, 请放心做决策！\n",
            "分子137:\t这是一个AI预测无毒性的药物分子, 请放心做决策！\n",
            "分子138:\t这是一个AI预测无毒性的药物分子, 请放心做决策！\n",
            "分子139:\t这是一个AI预测无毒性的药物分子, 请放心做决策！\n",
            "分子140:\t这是一个AI预测无毒性的药物分子, 请放心做决策！\n",
            "分子141:\t这是一个AI预测无毒性的药物分子, 请放心做决策！\n",
            "分子142:\t这是一个AI预测无毒性的药物分子, 请放心做决策！\n",
            "分子143:\t这是一个AI预测无毒性的药物分子, 请放心做决策！\n",
            "分子144:\t这是一个AI预测无毒性的药物分子, 请放心做决策！\n",
            "分子145:\t这是一个AI预测无毒性的药物分子, 请放心做决策！\n",
            "分子146:\t这是一个AI预测无毒性的药物分子, 请放心做决策！\n",
            "分子147:\t这是一个AI预测无毒性的药物分子, 请放心做决策！\n",
            "分子148:\t这是一个AI预测无毒性的药物分子, 请放心做决策！\n",
            "分子149:\t这是一个AI预测无毒性的药物分子, 请放心做决策！\n",
            "分子150:\t这是一个AI预测无毒性的药物分子, 请放心做决策！\n",
            "分子151:\t这是一个AI预测无毒性的药物分子, 请放心做决策！\n",
            "分子152:\t这是一个AI预测无毒性的药物分子, 请放心做决策！\n",
            "分子153:\t这是一个AI预测无毒性的药物分子, 请放心做决策！\n",
            "分子154:\t这是一个AI预测无毒性的药物分子, 请放心做决策！\n",
            "分子155:\t这是一个AI预测无毒性的药物分子, 请放心做决策！\n",
            "分子156:\t这是一个AI预测无毒性的药物分子, 请放心做决策！\n",
            "分子157:\t这是一个AI预测无毒性的药物分子, 请放心做决策！\n",
            "分子158:\t这是一个AI预测无毒性的药物分子, 请放心做决策！\n",
            "分子159:\t这是一个AI预测无毒性的药物分子, 请放心做决策！\n",
            "分子160:\t这是一个AI预测无毒性的药物分子, 请放心做决策！\n",
            "分子161:\t这是一个AI预测无毒性的药物分子, 请放心做决策！\n",
            "分子162:\t这是一个AI预测无毒性的药物分子, 请放心做决策！\n",
            "分子163:\t这是一个AI预测无毒性的药物分子, 请放心做决策！\n",
            "分子164:\t这是一个AI预测无毒性的药物分子, 请放心做决策！\n",
            "分子165:\t这是一个AI预测无毒性的药物分子, 请放心做决策！\n",
            "分子166:\t这是一个AI预测无毒性的药物分子, 请放心做决策！\n",
            "分子167:\t这是一个AI预测无毒性的药物分子, 请放心做决策！\n",
            "分子168:\t这是一个AI预测无毒性的药物分子, 请放心做决策！\n",
            "分子169:\t这是一个AI预测无毒性的药物分子, 请放心做决策！\n",
            "分子170:\t这是一个AI预测无毒性的药物分子, 请放心做决策！\n",
            "分子171:\t这是一个AI预测无毒性的药物分子, 请放心做决策！\n",
            "分子172:\t这是一个AI预测无毒性的药物分子, 请放心做决策！\n",
            "分子173:\t这是一个AI预测无毒性的药物分子, 请放心做决策！\n",
            "分子174:\t这是一个AI预测无毒性的药物分子, 请放心做决策！\n",
            "分子175:\t这是一个AI预测无毒性的药物分子, 请放心做决策！\n",
            "分子176:\t这是一个AI预测无毒性的药物分子, 请放心做决策！\n",
            "分子177:\t这是一个AI预测无毒性的药物分子, 请放心做决策！\n",
            "分子178:\t这是一个AI预测无毒性的药物分子, 请放心做决策！\n",
            "分子179:\t这是一个AI预测无毒性的药物分子, 请放心做决策！\n",
            "分子180:\t这是一个AI预测无毒性的药物分子, 请放心做决策！\n",
            "分子181:\t这是一个AI预测无毒性的药物分子, 请放心做决策！\n",
            "分子182:\t这是一个AI预测无毒性的药物分子, 请放心做决策！\n",
            "分子183:\t这是一个AI预测无毒性的药物分子, 请放心做决策！\n",
            "分子184:\t这是一个AI预测无毒性的药物分子, 请放心做决策！\n",
            "分子185:\t这是一个AI预测无毒性的药物分子, 请放心做决策！\n",
            "分子186:\t这是一个AI预测无毒性的药物分子, 请放心做决策！\n",
            "分子187:\t这是一个AI预测无毒性的药物分子, 请放心做决策！\n",
            "分子188:\t这是一个AI预测无毒性的药物分子, 请放心做决策！\n",
            "分子189:\t这是一个AI预测无毒性的药物分子, 请放心做决策！\n",
            "分子190:\t这是一个AI预测无毒性的药物分子, 请放心做决策！\n",
            "分子191:\t这是一个AI预测无毒性的药物分子, 请放心做决策！\n",
            "分子192:\t这是一个AI预测无毒性的药物分子, 请放心做决策！\n",
            "分子193:\t这是一个AI预测无毒性的药物分子, 请放心做决策！\n",
            "分子194:\t这是一个AI预测无毒性的药物分子, 请放心做决策！\n",
            "分子195:\t这是一个AI预测无毒性的药物分子, 请放心做决策！\n",
            "分子196:\t这是一个AI预测无毒性的药物分子, 请放心做决策！\n",
            "分子197:\t这是一个AI预测无毒性的药物分子, 请放心做决策！\n",
            "分子198:\t这是一个AI预测有毒性的药物分子, 请谨慎做决策！\n",
            "分子199:\t这是一个AI预测无毒性的药物分子, 请放心做决策！\n"
          ]
        }
      ]
    }
  ]
}