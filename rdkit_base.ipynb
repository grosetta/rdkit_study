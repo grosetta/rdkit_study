{
  "nbformat": 4,
  "nbformat_minor": 0,
  "metadata": {
    "colab": {
      "provenance": [],
      "collapsed_sections": [
        "gkSSPygGThke",
        "Qx91liN3Uoxu",
        "tTDF8KBmTo6t",
        "CPKY4KBQseRx",
        "FI078trAsTE5",
        "0fax4-RxsHZK",
        "wzmeV04DxvXb",
        "vGv5uOo0xnFT"
      ],
      "mount_file_id": "1ib7J-j6iNMIxHf8ifdriCTwYoy5JFtLL",
      "authorship_tag": "ABX9TyPDde4b0j2tjTd/45eMv+1q",
      "include_colab_link": true
    },
    "kernelspec": {
      "name": "python3",
      "display_name": "Python 3"
    },
    "language_info": {
      "name": "python"
    }
  },
  "cells": [
    {
      "cell_type": "markdown",
      "metadata": {
        "id": "view-in-github",
        "colab_type": "text"
      },
      "source": [
        "<a href=\"https://colab.research.google.com/github/grosetta/rdkit_study/blob/main/rdkit_base.ipynb\" target=\"_parent\"><img src=\"https://colab.research.google.com/assets/colab-badge.svg\" alt=\"Open In Colab\"/></a>"
      ]
    },
    {
      "cell_type": "code",
      "source": [
        "#文件头代码\n",
        "import sys\n",
        "from google.colab import drive\n",
        "drive.mount('/content/drive')\n",
        "sys.path.insert(0,\"/content/drive/My Drive/Colab Notebooks/python_package/\")"
      ],
      "metadata": {
        "colab": {
          "base_uri": "https://localhost:8080/"
        },
        "id": "i7rtU5ZS-tCt",
        "outputId": "aeea41fd-b6c7-45e7-e46e-279b31a647df"
      },
      "execution_count": null,
      "outputs": [
        {
          "output_type": "stream",
          "name": "stdout",
          "text": [
            "Drive already mounted at /content/drive; to attempt to forcibly remount, call drive.mount(\"/content/drive\", force_remount=True).\n"
          ]
        }
      ]
    },
    {
      "cell_type": "markdown",
      "source": [
        "## 模块导入\n"
      ],
      "metadata": {
        "id": "E3XZjM8oW-es"
      }
    },
    {
      "cell_type": "code",
      "source": [
        "from rdkit import Chem\n",
        "from rdkit.Chem import Draw\n",
        "from rdkit.Chem import AllChem\n",
        "from rdkit.Chem import Descriptors\n",
        "from rdkit.Chem import rdMolDescriptors\n",
        "from rdkit.Chem.Draw import IPythonConsole \n",
        "from rdkit.Chem.Draw.MolDrawing import MolDrawing, DrawingOptions \n",
        "from rdkit import rdBase, DataStructs\n",
        "from rdkit.Chem import PandasTools\n",
        "import gzip\n",
        "import numpy as np\n",
        "import pandas as pd\n",
        "\n",
        "print('rdkit version: ',rdBase.rdkitVersion)\n",
        "print('pandas version: ', pd.__version__)"
      ],
      "metadata": {
        "id": "KASFtlElbTvq",
        "colab": {
          "base_uri": "https://localhost:8080/"
        },
        "outputId": "554f24f3-cad5-44da-b75a-9875a092b632"
      },
      "execution_count": null,
      "outputs": [
        {
          "output_type": "stream",
          "name": "stdout",
          "text": [
            "rdkit version:  2022.09.4\n",
            "pandas version:  1.5.3\n"
          ]
        }
      ]
    },
    {
      "cell_type": "markdown",
      "source": [
        "## 1.常规读入分子/输出"
      ],
      "metadata": {
        "id": "gkSSPygGThke"
      }
    },
    {
      "cell_type": "code",
      "source": [
        "# 从sdf文件中读\n",
        "spl = Chem.SDMolSupplier('/content/drive/My Drive/data/molecules.sdf') \n",
        "# 从sdf.gz压缩格式读\n",
        "gz_file = gzip.open('/content/drive/My Drive/data/molecules.sdf.gz', 'r')\n",
        "spl2 = Chem.ForwardSDMolSupplier(gz_file)\n",
        "# 从mol2文件中读()\n",
        "spl3 = Chem.MolFromMol2File('/content/drive/My Drive/data/molecule.mol2')\n",
        "# 从smile中读\n",
        "mol = Chem.MolFromSmiles('CC(C)Cc1ccc(cc1)C(C)C(=O)O')\n",
        "# 读取PDB\n",
        "mol2 = Chem.MolFromPDBFile('/content/drive/My Drive/data/6x9i.pdb')\n",
        "# FASTA\n",
        "mol3 = Chem.MolFromFASTA('/content/drive/My Drive/data/protein.fasta')\n",
        "# peptide\n",
        "mol4 = Chem.MolFromSequence('ATTMCYP')\n"
      ],
      "metadata": {
        "id": "PnKNAPcMTkUF"
      },
      "execution_count": null,
      "outputs": []
    },
    {
      "cell_type": "markdown",
      "source": [
        "## 2.计算分子描述符/分子输出"
      ],
      "metadata": {
        "id": "Qx91liN3Uoxu"
      }
    },
    {
      "cell_type": "code",
      "source": [
        "# 计算原子数\n",
        "atomNum = mol.GetNumAtoms()\n",
        "# 质子化\n",
        "molH = AllChem.AddHs(mol)\n",
        "# 计算TPSA\n",
        "TPSA = Descriptors.TPSA(mol)\n",
        "# 计算油水分配系数\n",
        "logP = round(Descriptors.MolLogP(mol), 2)\n",
        "# 计算电荷数\n",
        "def compute_n_charge(a):\n",
        "    #compute the totoal number of charge\n",
        "    SMILE=str(Chem.MolToSmiles(a))\n",
        "    positive_n_charge=SMILE.count('+')\n",
        "    negative_n_charge=SMILE.count('-')\n",
        "    total_charge=int(positive_n_charge-negative_n_charge)\n",
        "    return total_charge\n",
        "n_charge = compute_n_charge(mol)\n",
        "# 读取分子名\n",
        "#Name = mol.GetProp('_Name')\n",
        "\n",
        "# 计算分子量\n",
        "MW = round(Descriptors.MolWt(mol), 2)\n",
        "\n",
        "print('%-10s\\t%-10s\\t%-10s\\t%-10s\\t%-10s\\t' % ('原子数', 'TPSA', 'logP','带电荷数','分子量'))\n",
        "print('%-10s\\t%-10s\\t%-10s\\t%-10s\\t%-10s\\t' % (atomNum, TPSA, logP, n_charge, MW ))"
      ],
      "metadata": {
        "colab": {
          "base_uri": "https://localhost:8080/"
        },
        "id": "CM5zEmGoUyCV",
        "outputId": "3d73299b-53d9-44a2-bae7-4b3b108a329f"
      },
      "execution_count": null,
      "outputs": [
        {
          "output_type": "stream",
          "name": "stdout",
          "text": [
            "原子数       \tTPSA      \tlogP      \t带电荷数      \t分子量       \t\n",
            "15        \t37.3      \t3.07      \t0         \t206.28    \t\n"
          ]
        }
      ]
    },
    {
      "cell_type": "code",
      "source": [
        "#文件输出\n",
        "writer = Chem.SDWriter('./output.sdf')\n",
        "writer.SetProps(['_Name', 'logP', 'MW', 'Charge'])\n",
        "mol.SetProp('MW', '%.2f' %(MW))\n",
        "mol.SetProp('logP', '%.2f' %(logP))\n",
        "mol.SetProp('_Name', 'test')\n",
        "mol.SetProp('Charge', '%.0f' %(n_charge))\n",
        "writer.write(mol)\n",
        "writer.close()"
      ],
      "metadata": {
        "id": "QIPNesy7rpMp"
      },
      "execution_count": null,
      "outputs": []
    },
    {
      "cell_type": "markdown",
      "source": [
        "## 3.绘图"
      ],
      "metadata": {
        "id": "tTDF8KBmTo6t"
      }
    },
    {
      "cell_type": "code",
      "source": [
        "mols = []\n",
        "for mol in spl:\n",
        "    mols.append(mol)\n",
        " \n",
        "# 获取前十个分子\n",
        "mols = mols[:5]\n",
        " \n",
        "#输出分子结构\n",
        "DrawingOptions.bondLineWidth=1.8    #键粗细\n",
        "DrawingOptions.atomLabelFontSize=0.5  #名字\n",
        "DrawingOptions.includeAtomNumbers=True\n",
        "img = Draw.MolsToGridImage(mols, molsPerRow=5, subImgSize=(300, 300), legends=[x.GetProp('_Name') for x in mols])\n",
        "img"
      ],
      "metadata": {
        "id": "Uu83SMbl4al_",
        "colab": {
          "base_uri": "https://localhost:8080/",
          "height": 230
        },
        "outputId": "a640883c-0a8b-495b-90f0-788b478b0989"
      },
      "execution_count": null,
      "outputs": [
        {
          "output_type": "execute_result",
          "data": {
            "image/png": "[encoded data removed]",
            "text/plain": [
              "<IPython.core.display.Image object>"
            ]
          },
          "metadata": {},
          "execution_count": 132
        }
      ]
    },
    {
      "cell_type": "markdown",
      "source": [
        "## 4、将分子以表格形式读取"
      ],
      "metadata": {
        "id": "BsAICpi2WxvE"
      }
    },
    {
      "cell_type": "markdown",
      "source": [
        "### 4.1 sdf文件以表格形式读入"
      ],
      "metadata": {
        "id": "CPKY4KBQseRx"
      }
    },
    {
      "cell_type": "code",
      "source": [
        "# 设置embedProps为True可以将ROMol一列的分子带有的属性一并包含\n",
        "df = PandasTools.LoadSDF('/content/drive/My Drive/data/molecules.sdf', smilesName=\"SMILE\", embedProps=True)  \n",
        "# 查看分子dataframe中列信息\n",
        "df.columns\n",
        "# 查看前三行，四列信息\n",
        "df.iloc[:3,:4]"
      ],
      "metadata": {
        "id": "WxwboPyXUogw",
        "colab": {
          "base_uri": "https://localhost:8080/",
          "height": 187
        },
        "outputId": "33a7bc22-776b-4a15-9ca8-15709a6f5a21"
      },
      "execution_count": null,
      "outputs": [
        {
          "output_type": "execute_result",
          "data": {
            "text/plain": [
              "  PUBCHEM_COMPOUND_CID       ID  \\\n",
              "0              6603170  6603170   \n",
              "1              6602966  6602966   \n",
              "2              6602949  6602949   \n",
              "\n",
              "                                               SMILE  \\\n",
              "0            Cc1c(C(=O)OCC(C)(C)CN(C)C)oc2ccccc12.Cl   \n",
              "1    COc1ccc(C(O)Cn2c(=N)n(CCCN(C)C)c3ccccc32)cc1.Cl   \n",
              "2  CCN(CC)CCOC(=O)c1ccc(NC=C2C(=O)CC(C)(C)CC2=O)c...   \n",
              "\n",
              "                                              ROMol  \n",
              "0  <rdkit.Chem.rdchem.Mol object at 0x7f778ffe4a50>  \n",
              "1  <rdkit.Chem.rdchem.Mol object at 0x7f778ffe4970>  \n",
              "2  <rdkit.Chem.rdchem.Mol object at 0x7f778ffe4430>  "
            ],
            "text/html": [
              "\n",
              "  <div id=\"df-8ff4f76f-799c-4b64-9037-d4312c14edb8\">\n",
              "    <div class=\"colab-df-container\">\n",
              "      <div>\n",
              "<style scoped>\n",
              "    .dataframe tbody tr th:only-of-type {\n",
              "        vertical-align: middle;\n",
              "    }\n",
              "\n",
              "    .dataframe tbody tr th {\n",
              "        vertical-align: top;\n",
              "    }\n",
              "\n",
              "    .dataframe thead th {\n",
              "        text-align: right;\n",
              "    }\n",
              "</style>\n",
              "<table border=\"1\" class=\"dataframe\">\n",
              "  <thead>\n",
              "    <tr style=\"text-align: right;\">\n",
              "      <th></th>\n",
              "      <th>PUBCHEM_COMPOUND_CID</th>\n",
              "      <th>ID</th>\n",
              "      <th>SMILE</th>\n",
              "      <th>ROMol</th>\n",
              "    </tr>\n",
              "  </thead>\n",
              "  <tbody>\n",
              "    <tr>\n",
              "      <th>0</th>\n",
              "      <td>6603170</td>\n",
              "      <td>6603170</td>\n",
              "      <td>Cc1c(C(=O)OCC(C)(C)CN(C)C)oc2ccccc12.Cl</td>\n",
              "      <td>&lt;rdkit.Chem.rdchem.Mol object at 0x7f778ffe4a50&gt;</td>\n",
              "    </tr>\n",
              "    <tr>\n",
              "      <th>1</th>\n",
              "      <td>6602966</td>\n",
              "      <td>6602966</td>\n",
              "      <td>COc1ccc(C(O)Cn2c(=N)n(CCCN(C)C)c3ccccc32)cc1.Cl</td>\n",
              "      <td>&lt;rdkit.Chem.rdchem.Mol object at 0x7f778ffe4970&gt;</td>\n",
              "    </tr>\n",
              "    <tr>\n",
              "      <th>2</th>\n",
              "      <td>6602949</td>\n",
              "      <td>6602949</td>\n",
              "      <td>CCN(CC)CCOC(=O)c1ccc(NC=C2C(=O)CC(C)(C)CC2=O)c...</td>\n",
              "      <td>&lt;rdkit.Chem.rdchem.Mol object at 0x7f778ffe4430&gt;</td>\n",
              "    </tr>\n",
              "  </tbody>\n",
              "</table>\n",
              "</div>\n",
              "      <button class=\"colab-df-convert\" onclick=\"convertToInteractive('df-8ff4f76f-799c-4b64-9037-d4312c14edb8')\"\n",
              "              title=\"Convert this dataframe to an interactive table.\"\n",
              "              style=\"display:none;\">\n",
              "        \n",
              "  <svg xmlns=\"http://www.w3.org/2000/svg\" height=\"24px\"viewBox=\"0 0 24 24\"\n",
              "       width=\"24px\">\n",
              "    <path d=\"M0 0h24v24H0V0z\" fill=\"none\"/>\n",
              "    <path d=\"M18.56 5.44l.94 2.06.94-2.06 2.06-.94-2.06-.94-.94-2.06-.94 2.06-2.06.94zm-11 1L8.5 8.5l.94-2.06 2.06-.94-2.06-.94L8.5 2.5l-.94 2.06-2.06.94zm10 10l.94 2.06.94-2.06 2.06-.94-2.06-.94-.94-2.06-.94 2.06-2.06.94z\"/><path d=\"M17.41 7.96l-1.37-1.37c-.4-.4-.92-.59-1.43-.59-.52 0-1.04.2-1.43.59L10.3 9.45l-7.72 7.72c-.78.78-.78 2.05 0 2.83L4 21.41c.39.39.9.59 1.41.59.51 0 1.02-.2 1.41-.59l7.78-7.78 2.81-2.81c.8-.78.8-2.07 0-2.86zM5.41 20L4 18.59l7.72-7.72 1.47 1.35L5.41 20z\"/>\n",
              "  </svg>\n",
              "      </button>\n",
              "      \n",
              "  <style>\n",
              "    .colab-df-container {\n",
              "      display:flex;\n",
              "      flex-wrap:wrap;\n",
              "      gap: 12px;\n",
              "    }\n",
              "\n",
              "    .colab-df-convert {\n",
              "      background-color: #E8F0FE;\n",
              "      border: none;\n",
              "      border-radius: 50%;\n",
              "      cursor: pointer;\n",
              "      display: none;\n",
              "      fill: #1967D2;\n",
              "      height: 32px;\n",
              "      padding: 0 0 0 0;\n",
              "      width: 32px;\n",
              "    }\n",
              "\n",
              "    .colab-df-convert:hover {\n",
              "      background-color: #E2EBFA;\n",
              "      box-shadow: 0px 1px 2px rgba(60, 64, 67, 0.3), 0px 1px 3px 1px rgba(60, 64, 67, 0.15);\n",
              "      fill: #174EA6;\n",
              "    }\n",
              "\n",
              "    [theme=dark] .colab-df-convert {\n",
              "      background-color: #3B4455;\n",
              "      fill: #D2E3FC;\n",
              "    }\n",
              "\n",
              "    [theme=dark] .colab-df-convert:hover {\n",
              "      background-color: #434B5C;\n",
              "      box-shadow: 0px 1px 3px 1px rgba(0, 0, 0, 0.15);\n",
              "      filter: drop-shadow(0px 1px 2px rgba(0, 0, 0, 0.3));\n",
              "      fill: #FFFFFF;\n",
              "    }\n",
              "  </style>\n",
              "\n",
              "      <script>\n",
              "        const buttonEl =\n",
              "          document.querySelector('#df-8ff4f76f-799c-4b64-9037-d4312c14edb8 button.colab-df-convert');\n",
              "        buttonEl.style.display =\n",
              "          google.colab.kernel.accessAllowed ? 'block' : 'none';\n",
              "\n",
              "        async function convertToInteractive(key) {\n",
              "          const element = document.querySelector('#df-8ff4f76f-799c-4b64-9037-d4312c14edb8');\n",
              "          const dataTable =\n",
              "            await google.colab.kernel.invokeFunction('convertToInteractive',\n",
              "                                                     [key], {});\n",
              "          if (!dataTable) return;\n",
              "\n",
              "          const docLinkHtml = 'Like what you see? Visit the ' +\n",
              "            '<a target=\"_blank\" href=https://colab.research.google.com/notebooks/data_table.ipynb>data table notebook</a>'\n",
              "            + ' to learn more about interactive tables.';\n",
              "          element.innerHTML = '';\n",
              "          dataTable['output_type'] = 'display_data';\n",
              "          await google.colab.output.renderOutput(dataTable, element);\n",
              "          const docLink = document.createElement('div');\n",
              "          docLink.innerHTML = docLinkHtml;\n",
              "          element.appendChild(docLink);\n",
              "        }\n",
              "      </script>\n",
              "    </div>\n",
              "  </div>\n",
              "  "
            ]
          },
          "metadata": {},
          "execution_count": 45
        }
      ]
    },
    {
      "cell_type": "code",
      "source": [
        "# 两个dataframe合并\n",
        "#df1.append(df2)"
      ],
      "metadata": {
        "id": "xEd2xCD10Q1a"
      },
      "execution_count": null,
      "outputs": []
    },
    {
      "cell_type": "markdown",
      "source": [
        "### 4.2 计算分子描述符"
      ],
      "metadata": {
        "id": "FI078trAsTE5"
      }
    },
    {
      "cell_type": "code",
      "source": [
        "# 计算三维描述符Fsp3(表示sp3杂化碳原子所占比例),并添加到表格中\n",
        "df['Fsp3'] = df.ROMol.map(Descriptors.FractionCSP3)\n",
        "# 计算Morgan指纹\n",
        "#df['FP'] = df.ROMol.map(lambda x: AllChem.GetMorganFingerprintAsBitVect(x, 2, 2048))\n",
        "df['FP'] = df.apply(lambda x: AllChem.GetMorganFingerprintAsBitVect(x['ROMol'], 2, 2048), axis=1)  # map和apply将后面的函数施加给前面对象。axis=1按照列施加函数，等于0按照行施加\n",
        "# 计算Tanimoto系数（用于描述分子间相似度）\n",
        "df['Tanimoto'] = DataStructs.BulkTanimotoSimilarity(df.FP[0], df.FP)   # 拿第一个分子的FP做相似度比较的参照\n",
        "# 计算分子量\n",
        "# 给每个分子计算分子量\n",
        "df['MW'] = df['ROMol'].apply(lambda x: Descriptors.MolWt(x))\n",
        "df.iloc[[1,3],[2,3]] # 使用切片可以任意地删除行或列\n",
        "\n",
        "df[['ID', 'SMILE', 'ROMol', 'Tanimoto', 'Fsp3','FP']].head(3)"
      ],
      "metadata": {
        "id": "ocnLknenWW-d",
        "colab": {
          "base_uri": "https://localhost:8080/",
          "height": 239
        },
        "outputId": "2e23a436-c7c2-45e0-b6f3-17a00330fbd8"
      },
      "execution_count": null,
      "outputs": [
        {
          "output_type": "execute_result",
          "data": {
            "text/plain": [
              "        ID                                              SMILE  \\\n",
              "0  6603170            Cc1c(C(=O)OCC(C)(C)CN(C)C)oc2ccccc12.Cl   \n",
              "1  6602966    COc1ccc(C(O)Cn2c(=N)n(CCCN(C)C)c3ccccc32)cc1.Cl   \n",
              "2  6602949  CCN(CC)CCOC(=O)c1ccc(NC=C2C(=O)CC(C)(C)CC2=O)c...   \n",
              "\n",
              "                                              ROMol  Tanimoto      Fsp3  \\\n",
              "0  <rdkit.Chem.rdchem.Mol object at 0x7f778ffe4a50>  1.000000  0.470588   \n",
              "1  <rdkit.Chem.rdchem.Mol object at 0x7f778ffe4970>  0.175676  0.380952   \n",
              "2  <rdkit.Chem.rdchem.Mol object at 0x7f778ffe4430>  0.168831  0.500000   \n",
              "\n",
              "                                                  FP  \n",
              "0  [0, 0, 0, 0, 0, 0, 0, 0, 0, 0, 0, 0, 0, 0, 0, ...  \n",
              "1  [0, 1, 0, 0, 0, 0, 0, 0, 0, 0, 0, 0, 0, 0, 0, ...  \n",
              "2  [0, 0, 0, 0, 0, 0, 0, 0, 0, 0, 0, 0, 0, 1, 0, ...  "
            ],
            "text/html": [
              "\n",
              "  <div id=\"df-57703724-b9ae-4d4f-82ed-e7f76024d55c\">\n",
              "    <div class=\"colab-df-container\">\n",
              "      <div>\n",
              "<style scoped>\n",
              "    .dataframe tbody tr th:only-of-type {\n",
              "        vertical-align: middle;\n",
              "    }\n",
              "\n",
              "    .dataframe tbody tr th {\n",
              "        vertical-align: top;\n",
              "    }\n",
              "\n",
              "    .dataframe thead th {\n",
              "        text-align: right;\n",
              "    }\n",
              "</style>\n",
              "<table border=\"1\" class=\"dataframe\">\n",
              "  <thead>\n",
              "    <tr style=\"text-align: right;\">\n",
              "      <th></th>\n",
              "      <th>ID</th>\n",
              "      <th>SMILE</th>\n",
              "      <th>ROMol</th>\n",
              "      <th>Tanimoto</th>\n",
              "      <th>Fsp3</th>\n",
              "      <th>FP</th>\n",
              "    </tr>\n",
              "  </thead>\n",
              "  <tbody>\n",
              "    <tr>\n",
              "      <th>0</th>\n",
              "      <td>6603170</td>\n",
              "      <td>Cc1c(C(=O)OCC(C)(C)CN(C)C)oc2ccccc12.Cl</td>\n",
              "      <td>&lt;rdkit.Chem.rdchem.Mol object at 0x7f778ffe4a50&gt;</td>\n",
              "      <td>1.000000</td>\n",
              "      <td>0.470588</td>\n",
              "      <td>[0, 0, 0, 0, 0, 0, 0, 0, 0, 0, 0, 0, 0, 0, 0, ...</td>\n",
              "    </tr>\n",
              "    <tr>\n",
              "      <th>1</th>\n",
              "      <td>6602966</td>\n",
              "      <td>COc1ccc(C(O)Cn2c(=N)n(CCCN(C)C)c3ccccc32)cc1.Cl</td>\n",
              "      <td>&lt;rdkit.Chem.rdchem.Mol object at 0x7f778ffe4970&gt;</td>\n",
              "      <td>0.175676</td>\n",
              "      <td>0.380952</td>\n",
              "      <td>[0, 1, 0, 0, 0, 0, 0, 0, 0, 0, 0, 0, 0, 0, 0, ...</td>\n",
              "    </tr>\n",
              "    <tr>\n",
              "      <th>2</th>\n",
              "      <td>6602949</td>\n",
              "      <td>CCN(CC)CCOC(=O)c1ccc(NC=C2C(=O)CC(C)(C)CC2=O)c...</td>\n",
              "      <td>&lt;rdkit.Chem.rdchem.Mol object at 0x7f778ffe4430&gt;</td>\n",
              "      <td>0.168831</td>\n",
              "      <td>0.500000</td>\n",
              "      <td>[0, 0, 0, 0, 0, 0, 0, 0, 0, 0, 0, 0, 0, 1, 0, ...</td>\n",
              "    </tr>\n",
              "  </tbody>\n",
              "</table>\n",
              "</div>\n",
              "      <button class=\"colab-df-convert\" onclick=\"convertToInteractive('df-57703724-b9ae-4d4f-82ed-e7f76024d55c')\"\n",
              "              title=\"Convert this dataframe to an interactive table.\"\n",
              "              style=\"display:none;\">\n",
              "        \n",
              "  <svg xmlns=\"http://www.w3.org/2000/svg\" height=\"24px\"viewBox=\"0 0 24 24\"\n",
              "       width=\"24px\">\n",
              "    <path d=\"M0 0h24v24H0V0z\" fill=\"none\"/>\n",
              "    <path d=\"M18.56 5.44l.94 2.06.94-2.06 2.06-.94-2.06-.94-.94-2.06-.94 2.06-2.06.94zm-11 1L8.5 8.5l.94-2.06 2.06-.94-2.06-.94L8.5 2.5l-.94 2.06-2.06.94zm10 10l.94 2.06.94-2.06 2.06-.94-2.06-.94-.94-2.06-.94 2.06-2.06.94z\"/><path d=\"M17.41 7.96l-1.37-1.37c-.4-.4-.92-.59-1.43-.59-.52 0-1.04.2-1.43.59L10.3 9.45l-7.72 7.72c-.78.78-.78 2.05 0 2.83L4 21.41c.39.39.9.59 1.41.59.51 0 1.02-.2 1.41-.59l7.78-7.78 2.81-2.81c.8-.78.8-2.07 0-2.86zM5.41 20L4 18.59l7.72-7.72 1.47 1.35L5.41 20z\"/>\n",
              "  </svg>\n",
              "      </button>\n",
              "      \n",
              "  <style>\n",
              "    .colab-df-container {\n",
              "      display:flex;\n",
              "      flex-wrap:wrap;\n",
              "      gap: 12px;\n",
              "    }\n",
              "\n",
              "    .colab-df-convert {\n",
              "      background-color: #E8F0FE;\n",
              "      border: none;\n",
              "      border-radius: 50%;\n",
              "      cursor: pointer;\n",
              "      display: none;\n",
              "      fill: #1967D2;\n",
              "      height: 32px;\n",
              "      padding: 0 0 0 0;\n",
              "      width: 32px;\n",
              "    }\n",
              "\n",
              "    .colab-df-convert:hover {\n",
              "      background-color: #E2EBFA;\n",
              "      box-shadow: 0px 1px 2px rgba(60, 64, 67, 0.3), 0px 1px 3px 1px rgba(60, 64, 67, 0.15);\n",
              "      fill: #174EA6;\n",
              "    }\n",
              "\n",
              "    [theme=dark] .colab-df-convert {\n",
              "      background-color: #3B4455;\n",
              "      fill: #D2E3FC;\n",
              "    }\n",
              "\n",
              "    [theme=dark] .colab-df-convert:hover {\n",
              "      background-color: #434B5C;\n",
              "      box-shadow: 0px 1px 3px 1px rgba(0, 0, 0, 0.15);\n",
              "      filter: drop-shadow(0px 1px 2px rgba(0, 0, 0, 0.3));\n",
              "      fill: #FFFFFF;\n",
              "    }\n",
              "  </style>\n",
              "\n",
              "      <script>\n",
              "        const buttonEl =\n",
              "          document.querySelector('#df-57703724-b9ae-4d4f-82ed-e7f76024d55c button.colab-df-convert');\n",
              "        buttonEl.style.display =\n",
              "          google.colab.kernel.accessAllowed ? 'block' : 'none';\n",
              "\n",
              "        async function convertToInteractive(key) {\n",
              "          const element = document.querySelector('#df-57703724-b9ae-4d4f-82ed-e7f76024d55c');\n",
              "          const dataTable =\n",
              "            await google.colab.kernel.invokeFunction('convertToInteractive',\n",
              "                                                     [key], {});\n",
              "          if (!dataTable) return;\n",
              "\n",
              "          const docLinkHtml = 'Like what you see? Visit the ' +\n",
              "            '<a target=\"_blank\" href=https://colab.research.google.com/notebooks/data_table.ipynb>data table notebook</a>'\n",
              "            + ' to learn more about interactive tables.';\n",
              "          element.innerHTML = '';\n",
              "          dataTable['output_type'] = 'display_data';\n",
              "          await google.colab.output.renderOutput(dataTable, element);\n",
              "          const docLink = document.createElement('div');\n",
              "          docLink.innerHTML = docLinkHtml;\n",
              "          element.appendChild(docLink);\n",
              "        }\n",
              "      </script>\n",
              "    </div>\n",
              "  </div>\n",
              "  "
            ]
          },
          "metadata": {},
          "execution_count": 57
        }
      ]
    },
    {
      "cell_type": "markdown",
      "source": [
        "### 4.3 使用比较运算符进行子结构搜索（匹配）"
      ],
      "metadata": {
        "id": "0fax4-RxsHZK"
      }
    },
    {
      "cell_type": "code",
      "source": [
        "# 用于匹配的子结构\n",
        "Substruct = Chem.MolFromSmiles('CC(C1=CC=CC=C1)=O')\n",
        "# 过滤后的dataframe\n",
        "df_filter = df[df.ROMol >= Substruct]\n",
        "\n",
        "df_filter[['SMILE','Fsp3']]\n",
        "#df_filter.iloc[:2,:]"
      ],
      "metadata": {
        "colab": {
          "base_uri": "https://localhost:8080/",
          "height": 143
        },
        "id": "2ZQN-cQWr-86",
        "outputId": "d1b7f666-aefa-4fef-da8a-1c608b2c2131"
      },
      "execution_count": null,
      "outputs": [
        {
          "output_type": "execute_result",
          "data": {
            "text/plain": [
              "                                                 SMILE      Fsp3\n",
              "52   CC1(C)CC(=O)c2cc(OCC(=O)N3CCN(c4ccccc4F)CC3)cc...  0.391304\n",
              "94   CN(C)S(=O)(=O)c1cccc(C(=O)C2=C3SC=C(c4ccccc4)N...  0.190476\n",
              "167                    CC(=O)c1cccc(NC(=O)Nc2cccnc2)c1  0.071429"
            ],
            "text/html": [
              "\n",
              "  <div id=\"df-50993800-68dd-47e5-acf0-aad13ce3b4fd\">\n",
              "    <div class=\"colab-df-container\">\n",
              "      <div>\n",
              "<style scoped>\n",
              "    .dataframe tbody tr th:only-of-type {\n",
              "        vertical-align: middle;\n",
              "    }\n",
              "\n",
              "    .dataframe tbody tr th {\n",
              "        vertical-align: top;\n",
              "    }\n",
              "\n",
              "    .dataframe thead th {\n",
              "        text-align: right;\n",
              "    }\n",
              "</style>\n",
              "<table border=\"1\" class=\"dataframe\">\n",
              "  <thead>\n",
              "    <tr style=\"text-align: right;\">\n",
              "      <th></th>\n",
              "      <th>SMILE</th>\n",
              "      <th>Fsp3</th>\n",
              "    </tr>\n",
              "  </thead>\n",
              "  <tbody>\n",
              "    <tr>\n",
              "      <th>52</th>\n",
              "      <td>CC1(C)CC(=O)c2cc(OCC(=O)N3CCN(c4ccccc4F)CC3)cc...</td>\n",
              "      <td>0.391304</td>\n",
              "    </tr>\n",
              "    <tr>\n",
              "      <th>94</th>\n",
              "      <td>CN(C)S(=O)(=O)c1cccc(C(=O)C2=C3SC=C(c4ccccc4)N...</td>\n",
              "      <td>0.190476</td>\n",
              "    </tr>\n",
              "    <tr>\n",
              "      <th>167</th>\n",
              "      <td>CC(=O)c1cccc(NC(=O)Nc2cccnc2)c1</td>\n",
              "      <td>0.071429</td>\n",
              "    </tr>\n",
              "  </tbody>\n",
              "</table>\n",
              "</div>\n",
              "      <button class=\"colab-df-convert\" onclick=\"convertToInteractive('df-50993800-68dd-47e5-acf0-aad13ce3b4fd')\"\n",
              "              title=\"Convert this dataframe to an interactive table.\"\n",
              "              style=\"display:none;\">\n",
              "        \n",
              "  <svg xmlns=\"http://www.w3.org/2000/svg\" height=\"24px\"viewBox=\"0 0 24 24\"\n",
              "       width=\"24px\">\n",
              "    <path d=\"M0 0h24v24H0V0z\" fill=\"none\"/>\n",
              "    <path d=\"M18.56 5.44l.94 2.06.94-2.06 2.06-.94-2.06-.94-.94-2.06-.94 2.06-2.06.94zm-11 1L8.5 8.5l.94-2.06 2.06-.94-2.06-.94L8.5 2.5l-.94 2.06-2.06.94zm10 10l.94 2.06.94-2.06 2.06-.94-2.06-.94-.94-2.06-.94 2.06-2.06.94z\"/><path d=\"M17.41 7.96l-1.37-1.37c-.4-.4-.92-.59-1.43-.59-.52 0-1.04.2-1.43.59L10.3 9.45l-7.72 7.72c-.78.78-.78 2.05 0 2.83L4 21.41c.39.39.9.59 1.41.59.51 0 1.02-.2 1.41-.59l7.78-7.78 2.81-2.81c.8-.78.8-2.07 0-2.86zM5.41 20L4 18.59l7.72-7.72 1.47 1.35L5.41 20z\"/>\n",
              "  </svg>\n",
              "      </button>\n",
              "      \n",
              "  <style>\n",
              "    .colab-df-container {\n",
              "      display:flex;\n",
              "      flex-wrap:wrap;\n",
              "      gap: 12px;\n",
              "    }\n",
              "\n",
              "    .colab-df-convert {\n",
              "      background-color: #E8F0FE;\n",
              "      border: none;\n",
              "      border-radius: 50%;\n",
              "      cursor: pointer;\n",
              "      display: none;\n",
              "      fill: #1967D2;\n",
              "      height: 32px;\n",
              "      padding: 0 0 0 0;\n",
              "      width: 32px;\n",
              "    }\n",
              "\n",
              "    .colab-df-convert:hover {\n",
              "      background-color: #E2EBFA;\n",
              "      box-shadow: 0px 1px 2px rgba(60, 64, 67, 0.3), 0px 1px 3px 1px rgba(60, 64, 67, 0.15);\n",
              "      fill: #174EA6;\n",
              "    }\n",
              "\n",
              "    [theme=dark] .colab-df-convert {\n",
              "      background-color: #3B4455;\n",
              "      fill: #D2E3FC;\n",
              "    }\n",
              "\n",
              "    [theme=dark] .colab-df-convert:hover {\n",
              "      background-color: #434B5C;\n",
              "      box-shadow: 0px 1px 3px 1px rgba(0, 0, 0, 0.15);\n",
              "      filter: drop-shadow(0px 1px 2px rgba(0, 0, 0, 0.3));\n",
              "      fill: #FFFFFF;\n",
              "    }\n",
              "  </style>\n",
              "\n",
              "      <script>\n",
              "        const buttonEl =\n",
              "          document.querySelector('#df-50993800-68dd-47e5-acf0-aad13ce3b4fd button.colab-df-convert');\n",
              "        buttonEl.style.display =\n",
              "          google.colab.kernel.accessAllowed ? 'block' : 'none';\n",
              "\n",
              "        async function convertToInteractive(key) {\n",
              "          const element = document.querySelector('#df-50993800-68dd-47e5-acf0-aad13ce3b4fd');\n",
              "          const dataTable =\n",
              "            await google.colab.kernel.invokeFunction('convertToInteractive',\n",
              "                                                     [key], {});\n",
              "          if (!dataTable) return;\n",
              "\n",
              "          const docLinkHtml = 'Like what you see? Visit the ' +\n",
              "            '<a target=\"_blank\" href=https://colab.research.google.com/notebooks/data_table.ipynb>data table notebook</a>'\n",
              "            + ' to learn more about interactive tables.';\n",
              "          element.innerHTML = '';\n",
              "          dataTable['output_type'] = 'display_data';\n",
              "          await google.colab.output.renderOutput(dataTable, element);\n",
              "          const docLink = document.createElement('div');\n",
              "          docLink.innerHTML = docLinkHtml;\n",
              "          element.appendChild(docLink);\n",
              "        }\n",
              "      </script>\n",
              "    </div>\n",
              "  </div>\n",
              "  "
            ]
          },
          "metadata": {},
          "execution_count": 120
        }
      ]
    },
    {
      "cell_type": "code",
      "source": [
        "# 导出sdf  (idName指定分子名取自哪一列，proterties的属性追加到文件原子坐标后)\n",
        "PandasTools.WriteSDF(df_filter, 'output.sdf', idName='ID', properties=['Fsp3','Tanimoto'])\n",
        "\n",
        "# 导出smile\n",
        "PandasTools.SaveSMILESFromFrame(df_filter, 'output.smi', NamesCol='ID')"
      ],
      "metadata": {
        "id": "2UJOeriy0wZi"
      },
      "execution_count": null,
      "outputs": []
    },
    {
      "cell_type": "markdown",
      "source": [
        "### 4.4给dataframe添加骨架smile列"
      ],
      "metadata": {
        "id": "wzmeV04DxvXb"
      }
    },
    {
      "cell_type": "code",
      "source": [
        "PandasTools.AddMurckoToFrame(df, MurckoCol='Murcko_SMILES')\n",
        "# 将杂环中的非碳原子转为碳原子得到的smile\n",
        "PandasTools.AddMurckoToFrame(df, MurckoCol='Murcko_generic_SMILES', Generic=True)\n",
        "# 将骨架smile转为分子结构\n",
        "PandasTools.AddMoleculeColumnToFrame(df, molCol='Murcko_Mol', smilesCol='Murcko_SMILES')\n",
        "PandasTools.AddMoleculeColumnToFrame(df, molCol='Murcko_generic_Mol', smilesCol='Murcko_generic_SMILES')\n",
        "# 将骨架结构绘制出（标签用Tanimoto数值代替）\n",
        "PandasTools.FrameToGridImage(df[:8], column='Murcko_generic_Mol', legendsCol='Tanimoto', molsPerRow=4)"
      ],
      "metadata": {
        "colab": {
          "base_uri": "https://localhost:8080/",
          "height": 417
        },
        "id": "UwVD3HK-xnUE",
        "outputId": "a363ca67-7c83-43cf-f94e-8179584284b4"
      },
      "execution_count": null,
      "outputs": [
        {
          "output_type": "execute_result",
          "data": {
            "text/plain": [
              "<PIL.PngImagePlugin.PngImageFile image mode=RGB size=800x400 at 0x7FF04D311610>"
            ],
            "image/png": "[encoded data removed]"
          },
          "metadata": {},
          "execution_count": 109
        }
      ]
    },
    {
      "cell_type": "markdown",
      "source": [
        "### 4.5统计分子库中各类原子的数目"
      ],
      "metadata": {
        "id": "vGv5uOo0xnFT"
      }
    },
    {
      "cell_type": "code",
      "source": [
        "def number_of_atoms(atom_list, df): \n",
        "    for elmt in atom_list:\n",
        "      #返回结果是布尔值 \n",
        "      df['num_of_{}_atoms'.format(elmt)] = df['ROMol'].apply(lambda x: len(x.GetSubstructMatches(Chem.MolFromSmiles(elmt))))\n",
        "number_of_atoms(['C','O', 'N','P', 'S'], df)\n",
        " \n",
        "# Get the number of aromatic and aliphatic rings\n",
        "df['num_of_arom_rings'] = df['ROMol'].apply(lambda x: rdMolDescriptors.CalcNumAromaticRings(x))\n",
        "df['num_of_aliph_rings'] = df['ROMol'].apply(lambda x: rdMolDescriptors.CalcNumAliphaticRings(x))\n",
        " \n",
        "# Check the columns \n",
        "df.iloc[[1,3],[-1,4]] #不连续切片\n",
        "df.iloc[1:3,-3:] #连续切片"
      ],
      "metadata": {
        "colab": {
          "base_uri": "https://localhost:8080/",
          "height": 112
        },
        "id": "ik4OMwW6xstM",
        "outputId": "3b0d15c3-90d7-4bff-eb34-bd9b86e85708"
      },
      "execution_count": null,
      "outputs": [
        {
          "output_type": "execute_result",
          "data": {
            "text/plain": [
              "   num_of_S_atoms  num_of_arom_rings  num_of_aliph_rings\n",
              "1               0                  3                   0\n",
              "2               0                  1                   1"
            ],
            "text/html": [
              "\n",
              "  <div id=\"df-b770dba7-1584-416d-b128-664bff1d95d4\">\n",
              "    <div class=\"colab-df-container\">\n",
              "      <div>\n",
              "<style scoped>\n",
              "    .dataframe tbody tr th:only-of-type {\n",
              "        vertical-align: middle;\n",
              "    }\n",
              "\n",
              "    .dataframe tbody tr th {\n",
              "        vertical-align: top;\n",
              "    }\n",
              "\n",
              "    .dataframe thead th {\n",
              "        text-align: right;\n",
              "    }\n",
              "</style>\n",
              "<table border=\"1\" class=\"dataframe\">\n",
              "  <thead>\n",
              "    <tr style=\"text-align: right;\">\n",
              "      <th></th>\n",
              "      <th>num_of_S_atoms</th>\n",
              "      <th>num_of_arom_rings</th>\n",
              "      <th>num_of_aliph_rings</th>\n",
              "    </tr>\n",
              "  </thead>\n",
              "  <tbody>\n",
              "    <tr>\n",
              "      <th>1</th>\n",
              "      <td>0</td>\n",
              "      <td>3</td>\n",
              "      <td>0</td>\n",
              "    </tr>\n",
              "    <tr>\n",
              "      <th>2</th>\n",
              "      <td>0</td>\n",
              "      <td>1</td>\n",
              "      <td>1</td>\n",
              "    </tr>\n",
              "  </tbody>\n",
              "</table>\n",
              "</div>\n",
              "      <button class=\"colab-df-convert\" onclick=\"convertToInteractive('df-b770dba7-1584-416d-b128-664bff1d95d4')\"\n",
              "              title=\"Convert this dataframe to an interactive table.\"\n",
              "              style=\"display:none;\">\n",
              "        \n",
              "  <svg xmlns=\"http://www.w3.org/2000/svg\" height=\"24px\"viewBox=\"0 0 24 24\"\n",
              "       width=\"24px\">\n",
              "    <path d=\"M0 0h24v24H0V0z\" fill=\"none\"/>\n",
              "    <path d=\"M18.56 5.44l.94 2.06.94-2.06 2.06-.94-2.06-.94-.94-2.06-.94 2.06-2.06.94zm-11 1L8.5 8.5l.94-2.06 2.06-.94-2.06-.94L8.5 2.5l-.94 2.06-2.06.94zm10 10l.94 2.06.94-2.06 2.06-.94-2.06-.94-.94-2.06-.94 2.06-2.06.94z\"/><path d=\"M17.41 7.96l-1.37-1.37c-.4-.4-.92-.59-1.43-.59-.52 0-1.04.2-1.43.59L10.3 9.45l-7.72 7.72c-.78.78-.78 2.05 0 2.83L4 21.41c.39.39.9.59 1.41.59.51 0 1.02-.2 1.41-.59l7.78-7.78 2.81-2.81c.8-.78.8-2.07 0-2.86zM5.41 20L4 18.59l7.72-7.72 1.47 1.35L5.41 20z\"/>\n",
              "  </svg>\n",
              "      </button>\n",
              "      \n",
              "  <style>\n",
              "    .colab-df-container {\n",
              "      display:flex;\n",
              "      flex-wrap:wrap;\n",
              "      gap: 12px;\n",
              "    }\n",
              "\n",
              "    .colab-df-convert {\n",
              "      background-color: #E8F0FE;\n",
              "      border: none;\n",
              "      border-radius: 50%;\n",
              "      cursor: pointer;\n",
              "      display: none;\n",
              "      fill: #1967D2;\n",
              "      height: 32px;\n",
              "      padding: 0 0 0 0;\n",
              "      width: 32px;\n",
              "    }\n",
              "\n",
              "    .colab-df-convert:hover {\n",
              "      background-color: #E2EBFA;\n",
              "      box-shadow: 0px 1px 2px rgba(60, 64, 67, 0.3), 0px 1px 3px 1px rgba(60, 64, 67, 0.15);\n",
              "      fill: #174EA6;\n",
              "    }\n",
              "\n",
              "    [theme=dark] .colab-df-convert {\n",
              "      background-color: #3B4455;\n",
              "      fill: #D2E3FC;\n",
              "    }\n",
              "\n",
              "    [theme=dark] .colab-df-convert:hover {\n",
              "      background-color: #434B5C;\n",
              "      box-shadow: 0px 1px 3px 1px rgba(0, 0, 0, 0.15);\n",
              "      filter: drop-shadow(0px 1px 2px rgba(0, 0, 0, 0.3));\n",
              "      fill: #FFFFFF;\n",
              "    }\n",
              "  </style>\n",
              "\n",
              "      <script>\n",
              "        const buttonEl =\n",
              "          document.querySelector('#df-b770dba7-1584-416d-b128-664bff1d95d4 button.colab-df-convert');\n",
              "        buttonEl.style.display =\n",
              "          google.colab.kernel.accessAllowed ? 'block' : 'none';\n",
              "\n",
              "        async function convertToInteractive(key) {\n",
              "          const element = document.querySelector('#df-b770dba7-1584-416d-b128-664bff1d95d4');\n",
              "          const dataTable =\n",
              "            await google.colab.kernel.invokeFunction('convertToInteractive',\n",
              "                                                     [key], {});\n",
              "          if (!dataTable) return;\n",
              "\n",
              "          const docLinkHtml = 'Like what you see? Visit the ' +\n",
              "            '<a target=\"_blank\" href=https://colab.research.google.com/notebooks/data_table.ipynb>data table notebook</a>'\n",
              "            + ' to learn more about interactive tables.';\n",
              "          element.innerHTML = '';\n",
              "          dataTable['output_type'] = 'display_data';\n",
              "          await google.colab.output.renderOutput(dataTable, element);\n",
              "          const docLink = document.createElement('div');\n",
              "          docLink.innerHTML = docLinkHtml;\n",
              "          element.appendChild(docLink);\n",
              "        }\n",
              "      </script>\n",
              "    </div>\n",
              "  </div>\n",
              "  "
            ]
          },
          "metadata": {},
          "execution_count": 86
        }
      ]
    },
    {
      "cell_type": "code",
      "source": [
        "print(\"分子中所含硫原子数目: {}\".format(\n",
        "    df['num_of_S_atoms'].astype(bool).sum()))\n",
        "print(\"分子中所含磷原子数目: {}\".format(\n",
        "    df['num_of_P_atoms'].astype(bool).sum()))\n",
        "print(\"分子中所含氮原子数目: {}\".format(\n",
        "    df['num_of_N_atoms'].astype(bool).sum()))\n",
        "print(\"分子中所含氧原子数目: {}\".format(\n",
        "    df['num_of_O_atoms'].astype(bool).sum()))"
      ],
      "metadata": {
        "colab": {
          "base_uri": "https://localhost:8080/"
        },
        "id": "ddY-oF3C5OyF",
        "outputId": "e90603e5-293b-43f4-d4db-6c4aa5a27469"
      },
      "execution_count": null,
      "outputs": [
        {
          "output_type": "stream",
          "name": "stdout",
          "text": [
            "分子中所含硫原子数目: 95\n",
            "分子中所含磷原子数目: 2\n",
            "分子中所含氮原子数目: 194\n",
            "分子中所含氧原子数目: 190\n"
          ]
        }
      ]
    },
    {
      "cell_type": "markdown",
      "source": [
        "## 5.生成带原子序号索引的图"
      ],
      "metadata": {
        "id": "bIOaDtGZpuPS"
      }
    },
    {
      "cell_type": "code",
      "source": [
        "# 定义函数\n",
        "def mol_with_atom_index(m):\n",
        "    atoms = m.GetNumAtoms()\n",
        "    for idx in range(atoms):\n",
        "        m.GetAtomWithIdx(idx).SetProp( 'molAtomMapNumber', str(mol.GetAtomWithIdx(idx).GetIdx()) )\n",
        "    return m"
      ],
      "metadata": {
        "id": "r6BgCr6-p1aT"
      },
      "execution_count": null,
      "outputs": []
    },
    {
      "cell_type": "code",
      "source": [
        "mol_with_atom_index(mol)"
      ],
      "metadata": {
        "colab": {
          "base_uri": "https://localhost:8080/",
          "height": 239
        },
        "id": "qdco4hCo7TAS",
        "outputId": "29be80d1-1c64-491b-e8c2-13ce72b08824"
      },
      "execution_count": null,
      "outputs": [
        {
          "output_type": "execute_result",
          "data": {
            "text/plain": [
              "<rdkit.Chem.rdchem.Mol at 0x7f779a0cf6d0>"
            ],
            "text/html": [
              "<table><tr><td colspan=\"2\" style=\"text-align: center;\"><image src=\"data:image/png;base64,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\"></td></tr>\n",
              "<tr><th style=\"text-align: right\">MW</th><td style=\"text-align: left\">206.28</td></tr>\n",
              "<tr><th style=\"text-align: right\">logP</th><td style=\"text-align: left\">3.07</td></tr>\n",
              "<tr><th style=\"text-align: right\">Charge</th><td style=\"text-align: left\">0</td></tr></table>"
            ],
            "image/png": "[encoded data removed]"
          },
          "metadata": {},
          "execution_count": 95
        }
      ]
    }
  ]
}