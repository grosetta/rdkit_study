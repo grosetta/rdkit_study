{
  "nbformat": 4,
  "nbformat_minor": 0,
  "metadata": {
    "colab": {
      "provenance": [],
      "authorship_tag": "ABX9TyP5/cRNeP/5Xm2ZneM6CU2T",
      "include_colab_link": true
    },
    "kernelspec": {
      "name": "python3",
      "display_name": "Python 3"
    },
    "language_info": {
      "name": "python"
    }
  },
  "cells": [
    {
      "cell_type": "markdown",
      "metadata": {
        "id": "view-in-github",
        "colab_type": "text"
      },
      "source": [
        "<a href=\"https://colab.research.google.com/github/grosetta/rdkit_study/blob/main/%E5%BE%AA%E7%8E%AF%E7%A5%9E%E7%BB%8F%E7%BD%91%E7%BB%9C.ipynb\" target=\"_parent\"><img src=\"https://colab.research.google.com/assets/colab-badge.svg\" alt=\"Open In Colab\"/></a>"
      ]
    },
    {
      "cell_type": "code",
      "execution_count": 1,
      "metadata": {
        "colab": {
          "base_uri": "https://localhost:8080/"
        },
        "id": "SqoFhWAm0FQX",
        "outputId": "a53b842d-5438-46e8-9cfe-860e2c50b603"
      },
      "outputs": [
        {
          "output_type": "stream",
          "name": "stdout",
          "text": [
            "Mounted at /content/gdrive\n"
          ]
        }
      ],
      "source": [
        "#文件头代码\n",
        "import sys\n",
        "from google.colab import drive\n",
        "drive.mount('/content/gdrive')\n",
        "sys.path.insert(0,\"/content/gdrive/My Drive/Colab Notebooks/python_package/\")"
      ]
    },
    {
      "cell_type": "code",
      "source": [
        "import numpy as np\n",
        "import tensorflow as tf\n",
        "from tensorflow.keras.layers import Dense, SimpleRNN\n",
        "import matplotlib.pyplot as plt\n",
        "import os"
      ],
      "metadata": {
        "id": "iJM3wERL0ZK5"
      },
      "execution_count": 2,
      "outputs": []
    },
    {
      "cell_type": "code",
      "source": [
        "input_word = \"abcde\"\n",
        "w_to_id = {'a': 0, 'b': 1, 'c': 2, 'd': 3, 'e': 4}  # 单词映射到数值id的词典\n",
        "id_to_onehot = {0: [1., 0., 0., 0., 0.], 1: [0., 1., 0., 0., 0.], 2: [0., 0., 1., 0., 0.], 3: [0., 0., 0., 1., 0.], 4: [0., 0., 0., 0., 1.]}  # id编码为one-hot"
      ],
      "metadata": {
        "id": "cjXG2Bys0jf5"
      },
      "execution_count": 4,
      "outputs": []
    },
    {
      "cell_type": "code",
      "source": [
        "x_train = [id_to_onehot[w_to_id['a']], id_to_onehot[w_to_id['b']], id_to_onehot[w_to_id['c']],\n",
        "           id_to_onehot[w_to_id['d']], id_to_onehot[w_to_id['e']]]\n",
        "y_train = [w_to_id['b'], w_to_id['c'], w_to_id['d'], w_to_id['e'], w_to_id['a']]"
      ],
      "metadata": {
        "id": "HhBH9tr52N74"
      },
      "execution_count": 5,
      "outputs": []
    },
    {
      "cell_type": "code",
      "source": [
        "np.random.seed(7)\n",
        "np.random.shuffle(x_train)\n",
        "np.random.seed(7)\n",
        "np.random.shuffle(y_train)\n",
        "tf.random.set_seed(7)"
      ],
      "metadata": {
        "id": "fpc_soVH2X-R"
      },
      "execution_count": 6,
      "outputs": []
    },
    {
      "cell_type": "code",
      "source": [
        "# 使x_train符合SimpleRNN输入要求：[送入样本数， 循环核时间展开步数， 每个时间步输入特征个数]。\n",
        "# 此处整个数据集送入，送入样本数为len(x_train)；输入1个字母出结果，循环核时间展开步数为1; 表示为独热码有5个输入特征，每个时间步输入特征个数为5\n",
        "x_train = np.reshape(x_train, (len(x_train), 1, 5))\n",
        "y_train = np.array(y_train)"
      ],
      "metadata": {
        "id": "IYtaZwDC2iJA"
      },
      "execution_count": 7,
      "outputs": []
    },
    {
      "cell_type": "code",
      "source": [
        "# 模型搭建\n",
        "model = tf.keras.Sequential([\n",
        "    SimpleRNN(3),  # 记忆体个数越多，记忆力越好，但是同时占用资源会更多\n",
        "    Dense(5, activation='softmax')\n",
        "])"
      ],
      "metadata": {
        "id": "WxKPkA-I2n7g"
      },
      "execution_count": 9,
      "outputs": []
    },
    {
      "cell_type": "code",
      "source": [
        "# 模型优化\n",
        "model.compile(optimizer=tf.keras.optimizers.Adam(0.01),\n",
        "              loss=tf.keras.losses.SparseCategoricalCrossentropy(from_logits=False),\n",
        "              metrics=['sparse_categorical_accuracy'])"
      ],
      "metadata": {
        "id": "yRWyrzwT2r_Q"
      },
      "execution_count": 10,
      "outputs": []
    },
    {
      "cell_type": "code",
      "source": [
        "# 保存检查点文件路径\n",
        "checkpoint_save_path = \"./checkpoint/rnn_onehot_1pre1.ckpt\"\n",
        "# 如果存在检查点文件，读入文件信息\n",
        "if os.path.exists(checkpoint_save_path + '.index'):\n",
        "    print('-------------load the model-----------------')\n",
        "    model.load_weights(checkpoint_save_path)"
      ],
      "metadata": {
        "id": "tpWc9Xfh203Q"
      },
      "execution_count": 12,
      "outputs": []
    },
    {
      "cell_type": "code",
      "source": [
        "cp_callback = tf.keras.callbacks.ModelCheckpoint(filepath=checkpoint_save_path,\n",
        "                         save_weights_only=True,\n",
        "                         save_best_only=True,\n",
        "                         monitor='loss')  # 由于fit没有给出测试集，不计算测试集准确率，根据loss，保存最优模型\n",
        "\n",
        "\n",
        "# 开始训练\n",
        "history = model.fit(x_train, y_train, batch_size=32, epochs=100, callbacks=[cp_callback])"
      ],
      "metadata": {
        "id": "hZmNPe4e3LOh"
      },
      "execution_count": null,
      "outputs": []
    },
    {
      "cell_type": "code",
      "source": [
        "model.summary()"
      ],
      "metadata": {
        "colab": {
          "base_uri": "https://localhost:8080/"
        },
        "id": "x_o37NBl4DJ4",
        "outputId": "f0e2da50-bddb-45e0-fe1d-8ac69bb90a9c"
      },
      "execution_count": 16,
      "outputs": [
        {
          "output_type": "stream",
          "name": "stdout",
          "text": [
            "Model: \"sequential_1\"\n",
            "_________________________________________________________________\n",
            " Layer (type)                Output Shape              Param #   \n",
            "=================================================================\n",
            " simple_rnn_1 (SimpleRNN)    (None, 3)                 27        \n",
            "                                                                 \n",
            " dense_1 (Dense)             (None, 5)                 20        \n",
            "                                                                 \n",
            "=================================================================\n",
            "Total params: 47\n",
            "Trainable params: 47\n",
            "Non-trainable params: 0\n",
            "_________________________________________________________________\n"
          ]
        }
      ]
    },
    {
      "cell_type": "code",
      "source": [
        "file = open('./weights.txt', 'w')  # 参数提取\n",
        "for v in model.trainable_variables:\n",
        "    file.write(str(v.name) + '\\n')\n",
        "    file.write(str(v.shape) + '\\n')\n",
        "    file.write(str(v.numpy()) + '\\n')\n",
        "file.close()"
      ],
      "metadata": {
        "id": "u7Ykb6tb4LWn"
      },
      "execution_count": 17,
      "outputs": []
    },
    {
      "cell_type": "code",
      "source": [
        "# 显示训练集和验证集的acc和loss曲线\n",
        "acc = history.history['sparse_categorical_accuracy']\n",
        "loss = history.history['loss']\n",
        "\n",
        "plt.subplot(1, 2, 1)\n",
        "plt.plot(acc, label='Training Accuracy')\n",
        "plt.title('Training Accuracy')\n",
        "plt.legend()\n",
        "\n",
        "plt.subplot(1, 2, 2)\n",
        "plt.plot(loss, label='Training Loss')\n",
        "plt.title('Training Loss')\n",
        "plt.legend()\n",
        "plt.show()"
      ],
      "metadata": {
        "colab": {
          "base_uri": "https://localhost:8080/",
          "height": 281
        },
        "id": "wQr9t5bq4dQQ",
        "outputId": "f88b8897-132a-409e-e838-19fd5aea26cd"
      },
      "execution_count": 18,
      "outputs": [
        {
          "output_type": "display_data",
          "data": {
            "text/plain": [
              "<Figure size 432x288 with 2 Axes>"
            ],
            "image/png": "[encoded data removed]"
          },
          "metadata": {
            "needs_background": "light"
          }
        }
      ]
    },
    {
      "cell_type": "code",
      "source": [
        "# 预测\n",
        "preNum = int(input(\"input the number of test alphabet:\"))\n",
        "for i in range(preNum):\n",
        "    alphabet1 = input(\"input test alphabet:\")\n",
        "    alphabet = [id_to_onehot[w_to_id[alphabet1]]]\n",
        "    # 使alphabet符合SimpleRNN输入要求：[送入样本数， 循环核时间展开步数， 每个时间步输入特征个数]。此处验证效果送入了1个样本，送入样本数为1；输入1个字母出结果，所以循环核时间展开步数为1; 表示为独热码有5个输入特征，每个时间步输入特征个数为5\n",
        "    alphabet = np.reshape(alphabet, (1, 1, 5))\n",
        "    result = model.predict([alphabet])\n",
        "    pred = tf.argmax(result, axis=1)\n",
        "    pred = int(pred)\n",
        "    tf.print(alphabet1 + '->' + input_word[pred])"
      ],
      "metadata": {
        "colab": {
          "base_uri": "https://localhost:8080/"
        },
        "id": "wdUFl8MP4hsw",
        "outputId": "555eb089-7749-4f40-979e-5e27769f5c89"
      },
      "execution_count": 24,
      "outputs": [
        {
          "output_type": "stream",
          "name": "stdout",
          "text": [
            "input the number of test alphabet:2\n",
            "input test alphabet:a\n",
            "1/1 [==============================] - 0s 17ms/step\n",
            "a->b\n",
            "input test alphabet:b\n",
            "1/1 [==============================] - 0s 18ms/step\n",
            "b->c\n"
          ]
        }
      ]
    }
  ]
}