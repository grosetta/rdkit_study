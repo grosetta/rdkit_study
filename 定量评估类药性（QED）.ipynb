{
  "nbformat": 4,
  "nbformat_minor": 0,
  "metadata": {
    "colab": {
      "provenance": [],
      "authorship_tag": "ABX9TyOlsYCCEM7og8HCK4y8CimU",
      "include_colab_link": true
    },
    "kernelspec": {
      "name": "python3",
      "display_name": "Python 3"
    },
    "language_info": {
      "name": "python"
    }
  },
  "cells": [
    {
      "cell_type": "markdown",
      "metadata": {
        "id": "view-in-github",
        "colab_type": "text"
      },
      "source": [
        "<a href=\"https://colab.research.google.com/github/grosetta/rdkit_study/blob/main/%E5%AE%9A%E9%87%8F%E8%AF%84%E4%BC%B0%E7%B1%BB%E8%8D%AF%E6%80%A7%EF%BC%88QED%EF%BC%89.ipynb\" target=\"_parent\"><img src=\"https://colab.research.google.com/assets/colab-badge.svg\" alt=\"Open In Colab\"/></a>"
      ]
    },
    {
      "cell_type": "code",
      "source": [
        "#文件头代码\n",
        "import sys\n",
        "from google.colab import drive\n",
        "drive.mount('/content/drive')\n",
        "sys.path.insert(0,\"/content/drive/My Drive/Colab Notebooks/python_package/\")"
      ],
      "metadata": {
        "colab": {
          "base_uri": "https://localhost:8080/"
        },
        "id": "l2LgooHxFNVc",
        "outputId": "d0b22284-d58b-4543-90a7-28582e2a7078"
      },
      "execution_count": 1,
      "outputs": [
        {
          "output_type": "stream",
          "name": "stdout",
          "text": [
            "Mounted at /content/drive\n"
          ]
        }
      ]
    },
    {
      "cell_type": "code",
      "execution_count": 2,
      "metadata": {
        "colab": {
          "base_uri": "https://localhost:8080/"
        },
        "id": "67XJFvbdE9ht",
        "outputId": "e7d0ea67-4d52-447c-c225-bec04dc50d03"
      },
      "outputs": [
        {
          "output_type": "stream",
          "name": "stdout",
          "text": [
            "2022.09.4\n"
          ]
        }
      ],
      "source": [
        "from rdkit import rdBase, Chem\n",
        "from rdkit.Chem import PandasTools, QED, Descriptors, rdMolDescriptors\n",
        "%matplotlib inline\n",
        "print(rdBase.rdkitVersion)"
      ]
    },
    {
      "cell_type": "code",
      "source": [
        "df = PandasTools.LoadSDF('/content/drive/My Drive/data/molecules.sdf')\n",
        "len(df)"
      ],
      "metadata": {
        "colab": {
          "base_uri": "https://localhost:8080/"
        },
        "id": "6WtcQdLhFYu8",
        "outputId": "47fc7aa5-075b-40c2-e659-59244ab380ac"
      },
      "execution_count": 3,
      "outputs": [
        {
          "output_type": "execute_result",
          "data": {
            "text/plain": [
              "200"
            ]
          },
          "metadata": {},
          "execution_count": 3
        }
      ]
    },
    {
      "cell_type": "code",
      "source": [
        "#计算QED\n",
        "df['QED'] = df.ROMol.map(QED.qed)\n",
        "df['QED'].head()"
      ],
      "metadata": {
        "id": "lWfwSm8UFmyL"
      },
      "execution_count": 4,
      "outputs": []
    },
    {
      "cell_type": "code",
      "source": [
        "#定义Lipinsky\n",
        "def rule_of_five(m):\n",
        "    mw = Descriptors.MolWt(m)\n",
        "    logp = Descriptors.MolLogP(m)\n",
        "    hbd = rdMolDescriptors.CalcNumLipinskiHBD(m)\n",
        "    hba = rdMolDescriptors.CalcNumLipinskiHBA(m)\n",
        "    psa = Descriptors.TPSA(m)\n",
        "    if (mw <= 500 and logp <= 5 and hbd <= 5 and hba <= 10):\n",
        "        return 1\n",
        "    else:\n",
        "        return 0"
      ],
      "metadata": {
        "id": "5f1N9xjFFqB7"
      },
      "execution_count": 5,
      "outputs": []
    },
    {
      "cell_type": "code",
      "source": [
        "df['Lipinski'] = df.ROMol.map(rule_of_five)"
      ],
      "metadata": {
        "id": "Yh4v31KvFymT"
      },
      "execution_count": 6,
      "outputs": []
    },
    {
      "cell_type": "code",
      "source": [
        "import matplotlib as mpl\n",
        "import seaborn as sns\n",
        "with mpl.style.context('seaborn'):\n",
        "    sns.violinplot(x='Lipinski', y='QED', data=df)"
      ],
      "metadata": {
        "colab": {
          "base_uri": "https://localhost:8080/",
          "height": 361
        },
        "id": "jFLNpLwcGKBa",
        "outputId": "b83568eb-743b-4aba-c3ac-a4a549b386ff"
      },
      "execution_count": 7,
      "outputs": [
        {
          "output_type": "display_data",
          "data": {
            "text/plain": [
              "<Figure size 576x396 with 1 Axes>"
            ],
            "image/png": "[encoded data removed]"
          },
          "metadata": {}
        }
      ]
    }
  ]
}